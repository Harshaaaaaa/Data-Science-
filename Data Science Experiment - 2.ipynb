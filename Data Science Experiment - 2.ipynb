{
 "cells": [
  {
   "cell_type": "markdown",
   "id": "6c13c179-813f-40d6-8168-ce5c62e19ac3",
   "metadata": {},
   "source": [
    "# HARSHA - CH.SC.U4CSE23020"
   ]
  },
  {
   "cell_type": "markdown",
   "id": "481498d7-f6d6-463e-8ebf-2617186f99a1",
   "metadata": {},
   "source": [
    "# Scenario 1: Initial Data Inspection and Loading "
   ]
  },
  {
   "cell_type": "code",
   "execution_count": 211,
   "id": "dc62ba27-8e46-4e45-bc9d-33b306ca4a8c",
   "metadata": {},
   "outputs": [],
   "source": [
    "import pandas as pd "
   ]
  },
  {
   "cell_type": "markdown",
   "id": "8123c753-1820-4f29-aba7-1230ba61ee94",
   "metadata": {},
   "source": [
    "# Write the Python code to load dirty_employee_dataset.csv into a Pandas DataFrame. Name your DataFrame df. "
   ]
  },
  {
   "cell_type": "code",
   "execution_count": 212,
   "id": "3313633f-9619-44ae-907c-49f565ab6e6a",
   "metadata": {},
   "outputs": [],
   "source": [
    "df = pd.read_csv('EmployeeDataset.csv')"
   ]
  },
  {
   "cell_type": "markdown",
   "id": "78a9d140-eecc-4f37-bc37-a181f16eb49c",
   "metadata": {},
   "source": [
    "# Display the first 5 rows of the DataFrame.  "
   ]
  },
  {
   "cell_type": "code",
   "execution_count": 213,
   "id": "ebf2714c-03f3-4f0f-9c52-5fdc6bc9483c",
   "metadata": {},
   "outputs": [
    {
     "data": {
      "text/html": [
       "<div>\n",
       "<style scoped>\n",
       "    .dataframe tbody tr th:only-of-type {\n",
       "        vertical-align: middle;\n",
       "    }\n",
       "\n",
       "    .dataframe tbody tr th {\n",
       "        vertical-align: top;\n",
       "    }\n",
       "\n",
       "    .dataframe thead th {\n",
       "        text-align: right;\n",
       "    }\n",
       "</style>\n",
       "<table border=\"1\" class=\"dataframe\">\n",
       "  <thead>\n",
       "    <tr style=\"text-align: right;\">\n",
       "      <th></th>\n",
       "      <th>Employee_ID</th>\n",
       "      <th>Name</th>\n",
       "      <th>Age</th>\n",
       "      <th>Department</th>\n",
       "      <th>Salary</th>\n",
       "      <th>Join_Date</th>\n",
       "      <th>Performance_Score</th>\n",
       "      <th>Manager</th>\n",
       "      <th>Bonus_Eligible</th>\n",
       "      <th>Remarks</th>\n",
       "    </tr>\n",
       "  </thead>\n",
       "  <tbody>\n",
       "    <tr>\n",
       "      <th>0</th>\n",
       "      <td>E0001</td>\n",
       "      <td>NaN</td>\n",
       "      <td>25.0</td>\n",
       "      <td>HR</td>\n",
       "      <td>65000.0</td>\n",
       "      <td>2023-06-30</td>\n",
       "      <td>5.0</td>\n",
       "      <td>NaN</td>\n",
       "      <td>no</td>\n",
       "      <td>NaN</td>\n",
       "    </tr>\n",
       "    <tr>\n",
       "      <th>1</th>\n",
       "      <td>E0002</td>\n",
       "      <td>James Chavez</td>\n",
       "      <td>35.0</td>\n",
       "      <td>HR</td>\n",
       "      <td>NaN</td>\n",
       "      <td>2024-02-13</td>\n",
       "      <td>1.0</td>\n",
       "      <td>Richard Mills</td>\n",
       "      <td>yes</td>\n",
       "      <td>Good</td>\n",
       "    </tr>\n",
       "    <tr>\n",
       "      <th>2</th>\n",
       "      <td>E0003</td>\n",
       "      <td>Shane Williams</td>\n",
       "      <td>25.0</td>\n",
       "      <td>IT</td>\n",
       "      <td>50000.0</td>\n",
       "      <td>2025-02-04</td>\n",
       "      <td>1.0</td>\n",
       "      <td>Tyler Whitney</td>\n",
       "      <td>NaN</td>\n",
       "      <td>NaN</td>\n",
       "    </tr>\n",
       "    <tr>\n",
       "      <th>3</th>\n",
       "      <td>E0004</td>\n",
       "      <td>Mr. Joseph Lewis</td>\n",
       "      <td>30.0</td>\n",
       "      <td>IT</td>\n",
       "      <td>55000.0</td>\n",
       "      <td>2023-10-31</td>\n",
       "      <td>5.0</td>\n",
       "      <td>Nicole Cardenas</td>\n",
       "      <td>N</td>\n",
       "      <td>NaN</td>\n",
       "    </tr>\n",
       "    <tr>\n",
       "      <th>4</th>\n",
       "      <td>E0005</td>\n",
       "      <td>Dr. Eric Weiss</td>\n",
       "      <td>NaN</td>\n",
       "      <td>HR</td>\n",
       "      <td>60000.0</td>\n",
       "      <td>2021-12-12</td>\n",
       "      <td>4.0</td>\n",
       "      <td>Ronald Lucero</td>\n",
       "      <td>yes</td>\n",
       "      <td>NaN</td>\n",
       "    </tr>\n",
       "  </tbody>\n",
       "</table>\n",
       "</div>"
      ],
      "text/plain": [
       "  Employee_ID              Name   Age Department   Salary   Join_Date  \\\n",
       "0       E0001               NaN  25.0         HR  65000.0  2023-06-30   \n",
       "1       E0002      James Chavez  35.0         HR      NaN  2024-02-13   \n",
       "2       E0003    Shane Williams  25.0         IT  50000.0  2025-02-04   \n",
       "3       E0004  Mr. Joseph Lewis  30.0         IT  55000.0  2023-10-31   \n",
       "4       E0005    Dr. Eric Weiss   NaN         HR  60000.0  2021-12-12   \n",
       "\n",
       "   Performance_Score          Manager Bonus_Eligible Remarks  \n",
       "0                5.0              NaN             no     NaN  \n",
       "1                1.0    Richard Mills            yes    Good  \n",
       "2                1.0    Tyler Whitney            NaN     NaN  \n",
       "3                5.0  Nicole Cardenas              N     NaN  \n",
       "4                4.0    Ronald Lucero            yes     NaN  "
      ]
     },
     "execution_count": 213,
     "metadata": {},
     "output_type": "execute_result"
    }
   ],
   "source": [
    "df.head()"
   ]
  },
  {
   "cell_type": "markdown",
   "id": "20ba1b44-8690-47d9-a389-fcf99d97a177",
   "metadata": {},
   "source": [
    "# Display the last 3 rows of the DataFrame. "
   ]
  },
  {
   "cell_type": "code",
   "execution_count": 214,
   "id": "299a0850-e17d-4938-ad63-e1d90f49f243",
   "metadata": {},
   "outputs": [
    {
     "data": {
      "text/html": [
       "<div>\n",
       "<style scoped>\n",
       "    .dataframe tbody tr th:only-of-type {\n",
       "        vertical-align: middle;\n",
       "    }\n",
       "\n",
       "    .dataframe tbody tr th {\n",
       "        vertical-align: top;\n",
       "    }\n",
       "\n",
       "    .dataframe thead th {\n",
       "        text-align: right;\n",
       "    }\n",
       "</style>\n",
       "<table border=\"1\" class=\"dataframe\">\n",
       "  <thead>\n",
       "    <tr style=\"text-align: right;\">\n",
       "      <th></th>\n",
       "      <th>Employee_ID</th>\n",
       "      <th>Name</th>\n",
       "      <th>Age</th>\n",
       "      <th>Department</th>\n",
       "      <th>Salary</th>\n",
       "      <th>Join_Date</th>\n",
       "      <th>Performance_Score</th>\n",
       "      <th>Manager</th>\n",
       "      <th>Bonus_Eligible</th>\n",
       "      <th>Remarks</th>\n",
       "    </tr>\n",
       "  </thead>\n",
       "  <tbody>\n",
       "    <tr>\n",
       "      <th>98</th>\n",
       "      <td>E0099</td>\n",
       "      <td>Vanessa Clark</td>\n",
       "      <td>25.0</td>\n",
       "      <td>NaN</td>\n",
       "      <td>65000.0</td>\n",
       "      <td>2023-07-01</td>\n",
       "      <td>5.0</td>\n",
       "      <td>Marie Velez</td>\n",
       "      <td>yes</td>\n",
       "      <td>NaN</td>\n",
       "    </tr>\n",
       "    <tr>\n",
       "      <th>99</th>\n",
       "      <td>E0100</td>\n",
       "      <td>Craig Blair</td>\n",
       "      <td>NaN</td>\n",
       "      <td>IT</td>\n",
       "      <td>65000.0</td>\n",
       "      <td>2020-10-13</td>\n",
       "      <td>3.0</td>\n",
       "      <td>Dr. Andrew Thomas</td>\n",
       "      <td>NaN</td>\n",
       "      <td>NaN</td>\n",
       "    </tr>\n",
       "    <tr>\n",
       "      <th>100</th>\n",
       "      <td>E0006</td>\n",
       "      <td>Nichole Montgomery</td>\n",
       "      <td>35.0</td>\n",
       "      <td>NaN</td>\n",
       "      <td>NaN</td>\n",
       "      <td>2022-05-28</td>\n",
       "      <td>NaN</td>\n",
       "      <td>Blake Moore</td>\n",
       "      <td>N</td>\n",
       "      <td>NaN</td>\n",
       "    </tr>\n",
       "  </tbody>\n",
       "</table>\n",
       "</div>"
      ],
      "text/plain": [
       "    Employee_ID                Name   Age Department   Salary   Join_Date  \\\n",
       "98        E0099       Vanessa Clark  25.0        NaN  65000.0  2023-07-01   \n",
       "99        E0100         Craig Blair   NaN         IT  65000.0  2020-10-13   \n",
       "100       E0006  Nichole Montgomery  35.0        NaN      NaN  2022-05-28   \n",
       "\n",
       "     Performance_Score            Manager Bonus_Eligible Remarks  \n",
       "98                 5.0        Marie Velez            yes     NaN  \n",
       "99                 3.0  Dr. Andrew Thomas            NaN     NaN  \n",
       "100                NaN        Blake Moore              N     NaN  "
      ]
     },
     "execution_count": 214,
     "metadata": {},
     "output_type": "execute_result"
    }
   ],
   "source": [
    "df.tail(3)"
   ]
  },
  {
   "cell_type": "markdown",
   "id": "1f9af8da-bc2f-42e8-a8a9-7ae4fa1e3db2",
   "metadata": {},
   "source": [
    "# Show the column names and their data types. "
   ]
  },
  {
   "cell_type": "code",
   "execution_count": 215,
   "id": "d868b1a4-b17a-43d5-9dff-87ebcf0bbd59",
   "metadata": {},
   "outputs": [
    {
     "data": {
      "text/plain": [
       "Employee_ID           object\n",
       "Name                  object\n",
       "Age                  float64\n",
       "Department            object\n",
       "Salary               float64\n",
       "Join_Date             object\n",
       "Performance_Score    float64\n",
       "Manager               object\n",
       "Bonus_Eligible        object\n",
       "Remarks               object\n",
       "dtype: object"
      ]
     },
     "execution_count": 215,
     "metadata": {},
     "output_type": "execute_result"
    }
   ],
   "source": [
    "df.dtypes"
   ]
  },
  {
   "cell_type": "markdown",
   "id": "59ae6312-977e-4cd3-8559-df1db6f63574",
   "metadata": {},
   "source": [
    "# Get a summary of non-null values and memory usage. "
   ]
  },
  {
   "cell_type": "code",
   "execution_count": 216,
   "id": "74a89a27-fc1d-41bb-b2be-d63a26fe7ea5",
   "metadata": {},
   "outputs": [
    {
     "name": "stdout",
     "output_type": "stream",
     "text": [
      "<class 'pandas.core.frame.DataFrame'>\n",
      "RangeIndex: 101 entries, 0 to 100\n",
      "Data columns (total 10 columns):\n",
      " #   Column             Non-Null Count  Dtype  \n",
      "---  ------             --------------  -----  \n",
      " 0   Employee_ID        101 non-null    object \n",
      " 1   Name               91 non-null     object \n",
      " 2   Age                69 non-null     float64\n",
      " 3   Department         77 non-null     object \n",
      " 4   Salary             75 non-null     float64\n",
      " 5   Join_Date          101 non-null    object \n",
      " 6   Performance_Score  81 non-null     float64\n",
      " 7   Manager            88 non-null     object \n",
      " 8   Bonus_Eligible     88 non-null     object \n",
      " 9   Remarks            46 non-null     object \n",
      "dtypes: float64(3), object(7)\n",
      "memory usage: 8.0+ KB\n"
     ]
    }
   ],
   "source": [
    "df.info()"
   ]
  },
  {
   "cell_type": "markdown",
   "id": "c44c262b-1d9a-4b79-a595-9962107dbd85",
   "metadata": {},
   "source": [
    "# Based on your initial inspection (head, tail, info), what are some immediate concerns \n",
    "# or potential issues you notice in the dataset that might need cleaning?"
   ]
  },
  {
   "cell_type": "raw",
   "id": "218e8036-eb71-4d85-9de7-2e13ac302e6b",
   "metadata": {},
   "source": [
    "Upon initial inspection of the dataset, several important observations emerge.\n",
    "    1. A number of columns contain missing values, with ‘Age’, ‘Salary’, and ‘Remarks’ showing significant gaps \n",
    "        that will need to be addressed during the data cleaning process.\n",
    "    2. The ‘Join_Date’ column is currently stored as an object data type, but it \n",
    "        represents temporal information and should be converted to a proper datetime format to enable \n",
    "        time-based analysis.\n",
    "    3. While ‘Salary’ and ‘Performance_Score’ are appropriately stored as floating-point numbers, \n",
    "        the ‘Bonus_Eligible’ column appears to have inconsistent text entries such as \"yes\", \"no\", \n",
    "        and \"N\", indicating potential data standardization issues.\n",
    "    4. In addition, string-based columns like ‘Department’, ‘Manager’, and ‘Bonus_Eligible’ contain \n",
    "        inconsistent casing or leading/trailing whitespaces, which can result in fragmented \n",
    "        categories during grouping or analysis.\n",
    "    5. Some names in the ‘Name’ and ‘Manager’ columns include honorifics like \"Mr.\" or \"Dr.\", which may \n",
    "        introduce noise during text-based operations and should be cleaned or separated if needed.\n",
    "    6. The ‘Remarks’ column is sparsely populated, with over half its entries missing, raising questions \n",
    "        about its utility in the analysis.\n",
    "    7. A check for duplicate rows or duplicate Employee_IDs is necessary to ensure data uniqueness and integrity.\n",
    "These inconsistencies, missing values, and formatting issues emphasize the importance of a comprehensive data cleaning process before \n",
    "proceeding with any exploratory or statistical analysis."
   ]
  },
  {
   "cell_type": "markdown",
   "id": "97c66d6c-8edb-47c0-9eb2-858909b3c5ff",
   "metadata": {},
   "source": [
    "# How many rows and columns does the dataset have? "
   ]
  },
  {
   "cell_type": "code",
   "execution_count": 217,
   "id": "78181d3f-1af4-4d8c-ba58-2199d46c0de8",
   "metadata": {},
   "outputs": [
    {
     "name": "stdout",
     "output_type": "stream",
     "text": [
      "Rows and columns :  (101, 10)\n"
     ]
    }
   ],
   "source": [
    "print('Rows and columns : ',df.shape)"
   ]
  },
  {
   "cell_type": "markdown",
   "id": "2b10b14a-7eaa-4206-8a35-589d8d3a2dd7",
   "metadata": {},
   "source": [
    "# Scenario 2: Handling Missing Values \n",
    "# 1. Identify Missing Values"
   ]
  },
  {
   "cell_type": "markdown",
   "id": "e04b2af1-7485-41e7-9b9a-638b33316d18",
   "metadata": {},
   "source": [
    "# Calculate the total number of missing values in each column. "
   ]
  },
  {
   "cell_type": "code",
   "execution_count": 218,
   "id": "dc46fda6-6819-4b2c-9f77-9f837dd41022",
   "metadata": {},
   "outputs": [
    {
     "data": {
      "text/plain": [
       "Employee_ID           0\n",
       "Name                 10\n",
       "Age                  32\n",
       "Department           24\n",
       "Salary               26\n",
       "Join_Date             0\n",
       "Performance_Score    20\n",
       "Manager              13\n",
       "Bonus_Eligible       13\n",
       "Remarks              55\n",
       "dtype: int64"
      ]
     },
     "execution_count": 218,
     "metadata": {},
     "output_type": "execute_result"
    }
   ],
   "source": [
    "df.isnull().sum()"
   ]
  },
  {
   "cell_type": "markdown",
   "id": "c86fafdf-1904-41c9-bf31-f5882d0fcde6",
   "metadata": {},
   "source": [
    "# Calculate the percentage of missing values for each column. "
   ]
  },
  {
   "cell_type": "raw",
   "id": "bc05e3a2-1fa6-4fc0-a6b7-fe5daf3aed88",
   "metadata": {},
   "source": [
    "(df.isnull().mean()*100).round(2)"
   ]
  },
  {
   "cell_type": "markdown",
   "id": "24dbefb3-61d7-4231-9470-f72b0cdf31a7",
   "metadata": {},
   "source": [
    "# Which columns have missing values, and what is the extent of missingness? "
   ]
  },
  {
   "cell_type": "raw",
   "id": "bf99845c-a4bd-49e0-9adb-4ddb2d2d01a4",
   "metadata": {},
   "source": [
    "# The following columns in the dataset have missing values:\n",
    "    1. Remarks has the highest amount of missing data, with 54.46% of entries missing, \n",
    "        making it unreliable for analysis.\n",
    "    2. Age is missing in 31.68% of the records, a considerable gap that \n",
    "        should be carefully imputed.\n",
    "    3. Salary and Department are missing in 25.74% and 23.76% of the rows, respectively, \n",
    "        which could significantly affect salary-related or departmental analyses.\n",
    "    4. Performance_Score has 19.80% missing values, possibly impacting performance \n",
    "        trend insights.\n",
    "    5. Manager and Bonus_Eligible each have 12.87% missing values, which can be handled\n",
    "        via mode imputation.\n",
    "    6. Name has 9.90% missing entries — while not critical for numeric analysis, \n",
    "        this affects identification and reporting.\n",
    "#Columns without missing values: Employee_ID, Join_Date."
   ]
  },
  {
   "cell_type": "markdown",
   "id": "732e5fc4-6e24-40a7-9d55-5d5f7cf16411",
   "metadata": {},
   "source": [
    "# 2. Strategize Imputation/Deletion"
   ]
  },
  {
   "cell_type": "markdown",
   "id": "c35cf870-8b87-464f-823b-5097a830e223",
   "metadata": {},
   "source": [
    "# For columns with missing values, consider their nature and propose a strategy for handling them (e.g., dropping rows/columns, imputing with mean/median/mode, or a specific value). Justify your choice for each column. "
   ]
  },
  {
   "cell_type": "raw",
   "id": "26014c63-a073-465b-9b42-a85f18494564",
   "metadata": {},
   "source": [
    "   Column Name            Strategy      \t          Justification\n",
    "Remarks           -   Drop column           -   More than half the data is missing. So likely the column is non-critical and subjective.\n",
    "Age               -   Impute with median    -   Continuous variable with possible outliers. So using median is robust and reduces skew.\n",
    "Salary            -   Impute with median    -   Critical numerical feature. So using median handles skewed salary distributions better than mean.\n",
    "Department        -   Impute with mode      -   Categorical feature. So mode fills the most common department, preserving structure.\n",
    "Performance_Score -   Impute with mode      -   Ordinal numeric. So mode is safer for outliers and to avoid fractional values.\n",
    "Manager           -   Impute with mode      -   Categorical with repetitions. So impute with most frequent manager name.\n",
    "Bonus_Eligible    -   Impute with mode      -   Categorical values like \"yes\", \"no\", \"N\" need cleaning. So fill with most frequent values.\n",
    "Name              -   Impute with 'Unknown' -   Useful for tracking even if incomplete.So placeholder allows continued identification."
   ]
  },
  {
   "cell_type": "markdown",
   "id": "5501f7da-615e-4eea-a266-3f809474785d",
   "metadata": {},
   "source": [
    "# 3.Implement Strategy"
   ]
  },
  {
   "cell_type": "markdown",
   "id": "5b8688c1-0952-40ec-95a4-cb3e62557046",
   "metadata": {},
   "source": [
    "# Apply your chosen strategy to handle missing values in the df. "
   ]
  },
  {
   "cell_type": "code",
   "execution_count": 219,
   "id": "98ba6de9-398f-44c3-a986-95cae5c05253",
   "metadata": {},
   "outputs": [
    {
     "data": {
      "text/html": [
       "<div>\n",
       "<style scoped>\n",
       "    .dataframe tbody tr th:only-of-type {\n",
       "        vertical-align: middle;\n",
       "    }\n",
       "\n",
       "    .dataframe tbody tr th {\n",
       "        vertical-align: top;\n",
       "    }\n",
       "\n",
       "    .dataframe thead th {\n",
       "        text-align: right;\n",
       "    }\n",
       "</style>\n",
       "<table border=\"1\" class=\"dataframe\">\n",
       "  <thead>\n",
       "    <tr style=\"text-align: right;\">\n",
       "      <th></th>\n",
       "      <th>Employee_ID</th>\n",
       "      <th>Name</th>\n",
       "      <th>Age</th>\n",
       "      <th>Department</th>\n",
       "      <th>Salary</th>\n",
       "      <th>Join_Date</th>\n",
       "      <th>Performance_Score</th>\n",
       "      <th>Manager</th>\n",
       "      <th>Bonus_Eligible</th>\n",
       "    </tr>\n",
       "  </thead>\n",
       "  <tbody>\n",
       "    <tr>\n",
       "      <th>0</th>\n",
       "      <td>E0001</td>\n",
       "      <td>Unknown</td>\n",
       "      <td>25.0</td>\n",
       "      <td>HR</td>\n",
       "      <td>65000.0</td>\n",
       "      <td>2023-06-30</td>\n",
       "      <td>5.0</td>\n",
       "      <td>Blake Moore</td>\n",
       "      <td>No</td>\n",
       "    </tr>\n",
       "    <tr>\n",
       "      <th>1</th>\n",
       "      <td>E0002</td>\n",
       "      <td>James Chavez</td>\n",
       "      <td>35.0</td>\n",
       "      <td>HR</td>\n",
       "      <td>55000.0</td>\n",
       "      <td>2024-02-13</td>\n",
       "      <td>1.0</td>\n",
       "      <td>Richard Mills</td>\n",
       "      <td>Yes</td>\n",
       "    </tr>\n",
       "    <tr>\n",
       "      <th>2</th>\n",
       "      <td>E0003</td>\n",
       "      <td>Shane Williams</td>\n",
       "      <td>25.0</td>\n",
       "      <td>IT</td>\n",
       "      <td>50000.0</td>\n",
       "      <td>2025-02-04</td>\n",
       "      <td>1.0</td>\n",
       "      <td>Tyler Whitney</td>\n",
       "      <td>Yes</td>\n",
       "    </tr>\n",
       "    <tr>\n",
       "      <th>3</th>\n",
       "      <td>E0004</td>\n",
       "      <td>Mr. Joseph Lewis</td>\n",
       "      <td>30.0</td>\n",
       "      <td>IT</td>\n",
       "      <td>55000.0</td>\n",
       "      <td>2023-10-31</td>\n",
       "      <td>5.0</td>\n",
       "      <td>Nicole Cardenas</td>\n",
       "      <td>No</td>\n",
       "    </tr>\n",
       "    <tr>\n",
       "      <th>4</th>\n",
       "      <td>E0005</td>\n",
       "      <td>Dr. Eric Weiss</td>\n",
       "      <td>30.0</td>\n",
       "      <td>HR</td>\n",
       "      <td>60000.0</td>\n",
       "      <td>2021-12-12</td>\n",
       "      <td>4.0</td>\n",
       "      <td>Ronald Lucero</td>\n",
       "      <td>Yes</td>\n",
       "    </tr>\n",
       "    <tr>\n",
       "      <th>...</th>\n",
       "      <td>...</td>\n",
       "      <td>...</td>\n",
       "      <td>...</td>\n",
       "      <td>...</td>\n",
       "      <td>...</td>\n",
       "      <td>...</td>\n",
       "      <td>...</td>\n",
       "      <td>...</td>\n",
       "      <td>...</td>\n",
       "    </tr>\n",
       "    <tr>\n",
       "      <th>96</th>\n",
       "      <td>E0097</td>\n",
       "      <td>Joseph Lopez PhD</td>\n",
       "      <td>35.0</td>\n",
       "      <td>IT</td>\n",
       "      <td>55000.0</td>\n",
       "      <td>2022-01-07</td>\n",
       "      <td>2.0</td>\n",
       "      <td>Blake Moore</td>\n",
       "      <td>Yes</td>\n",
       "    </tr>\n",
       "    <tr>\n",
       "      <th>97</th>\n",
       "      <td>E0098</td>\n",
       "      <td>Jason Yang</td>\n",
       "      <td>30.0</td>\n",
       "      <td>HR</td>\n",
       "      <td>55000.0</td>\n",
       "      <td>2021-08-29</td>\n",
       "      <td>3.0</td>\n",
       "      <td>Cheryl Oconnor</td>\n",
       "      <td>No</td>\n",
       "    </tr>\n",
       "    <tr>\n",
       "      <th>98</th>\n",
       "      <td>E0099</td>\n",
       "      <td>Vanessa Clark</td>\n",
       "      <td>25.0</td>\n",
       "      <td>IT</td>\n",
       "      <td>65000.0</td>\n",
       "      <td>2023-07-01</td>\n",
       "      <td>5.0</td>\n",
       "      <td>Marie Velez</td>\n",
       "      <td>Yes</td>\n",
       "    </tr>\n",
       "    <tr>\n",
       "      <th>99</th>\n",
       "      <td>E0100</td>\n",
       "      <td>Craig Blair</td>\n",
       "      <td>30.0</td>\n",
       "      <td>IT</td>\n",
       "      <td>65000.0</td>\n",
       "      <td>2020-10-13</td>\n",
       "      <td>3.0</td>\n",
       "      <td>Dr. Andrew Thomas</td>\n",
       "      <td>Yes</td>\n",
       "    </tr>\n",
       "    <tr>\n",
       "      <th>100</th>\n",
       "      <td>E0006</td>\n",
       "      <td>Nichole Montgomery</td>\n",
       "      <td>35.0</td>\n",
       "      <td>IT</td>\n",
       "      <td>55000.0</td>\n",
       "      <td>2022-05-28</td>\n",
       "      <td>2.0</td>\n",
       "      <td>Blake Moore</td>\n",
       "      <td>No</td>\n",
       "    </tr>\n",
       "  </tbody>\n",
       "</table>\n",
       "<p>101 rows × 9 columns</p>\n",
       "</div>"
      ],
      "text/plain": [
       "    Employee_ID                Name   Age Department   Salary   Join_Date  \\\n",
       "0         E0001             Unknown  25.0         HR  65000.0  2023-06-30   \n",
       "1         E0002        James Chavez  35.0         HR  55000.0  2024-02-13   \n",
       "2         E0003      Shane Williams  25.0         IT  50000.0  2025-02-04   \n",
       "3         E0004    Mr. Joseph Lewis  30.0         IT  55000.0  2023-10-31   \n",
       "4         E0005      Dr. Eric Weiss  30.0         HR  60000.0  2021-12-12   \n",
       "..          ...                 ...   ...        ...      ...         ...   \n",
       "96        E0097    Joseph Lopez PhD  35.0         IT  55000.0  2022-01-07   \n",
       "97        E0098          Jason Yang  30.0         HR  55000.0  2021-08-29   \n",
       "98        E0099       Vanessa Clark  25.0         IT  65000.0  2023-07-01   \n",
       "99        E0100         Craig Blair  30.0         IT  65000.0  2020-10-13   \n",
       "100       E0006  Nichole Montgomery  35.0         IT  55000.0  2022-05-28   \n",
       "\n",
       "     Performance_Score            Manager Bonus_Eligible  \n",
       "0                  5.0        Blake Moore             No  \n",
       "1                  1.0      Richard Mills            Yes  \n",
       "2                  1.0      Tyler Whitney            Yes  \n",
       "3                  5.0    Nicole Cardenas             No  \n",
       "4                  4.0      Ronald Lucero            Yes  \n",
       "..                 ...                ...            ...  \n",
       "96                 2.0        Blake Moore            Yes  \n",
       "97                 3.0     Cheryl Oconnor             No  \n",
       "98                 5.0        Marie Velez            Yes  \n",
       "99                 3.0  Dr. Andrew Thomas            Yes  \n",
       "100                2.0        Blake Moore             No  \n",
       "\n",
       "[101 rows x 9 columns]"
      ]
     },
     "execution_count": 219,
     "metadata": {},
     "output_type": "execute_result"
    }
   ],
   "source": [
    "df_cleaned = df.drop(columns=['Remarks'])\n",
    "df_cleaned['Age'] = df_cleaned['Age'].fillna(df_cleaned['Age'].median())\n",
    "df_cleaned['Salary'] = df_cleaned['Salary'].fillna(df_cleaned['Salary'].median())\n",
    "df_cleaned['Department'] = df_cleaned['Department'].fillna(df_cleaned['Department'].mode()[0])\n",
    "df_cleaned['Performance_Score'] = df_cleaned['Performance_Score'].fillna(df_cleaned['Performance_Score'].mode()[0])\n",
    "df_cleaned['Manager'] = df_cleaned['Manager'].fillna(df_cleaned['Manager'].mode()[0])\n",
    "df_cleaned['Bonus_Eligible'] = df_cleaned['Bonus_Eligible'].astype(str).str.strip().str.lower().replace({\n",
    "    'yes': 'Yes', 'y': 'Yes',\n",
    "    'no': 'No', 'n': 'No',\n",
    "    'nan': pd.NA\n",
    "})\n",
    "df_cleaned['Bonus_Eligible'] = df_cleaned['Bonus_Eligible'].fillna(df_cleaned['Bonus_Eligible'].mode()[0])\n",
    "df_cleaned['Name'] = df_cleaned['Name'].fillna('Unknown').astype(str)\n",
    "df_cleaned"
   ]
  },
  {
   "cell_type": "markdown",
   "id": "9017b881-83f7-4c2e-b132-df3245a4ef65",
   "metadata": {},
   "source": [
    "# Verify that there are no remaining missing values after your operations (or only where you decided to keep them). "
   ]
  },
  {
   "cell_type": "code",
   "execution_count": 220,
   "id": "ede88db1-a945-4271-9d6f-b8e353016f9f",
   "metadata": {},
   "outputs": [
    {
     "data": {
      "text/plain": [
       "Employee_ID          0\n",
       "Name                 0\n",
       "Age                  0\n",
       "Department           0\n",
       "Salary               0\n",
       "Join_Date            0\n",
       "Performance_Score    0\n",
       "Manager              0\n",
       "Bonus_Eligible       0\n",
       "dtype: int64"
      ]
     },
     "execution_count": 220,
     "metadata": {},
     "output_type": "execute_result"
    }
   ],
   "source": [
    "df_cleaned.isnull().sum()"
   ]
  },
  {
   "cell_type": "markdown",
   "id": "32cb2520-90a8-473e-b47b-d2eb82193bd2",
   "metadata": {},
   "source": [
    "# Scenario 3: Data Type Conversion and Consistency "
   ]
  },
  {
   "cell_type": "markdown",
   "id": "81382f48-7b74-45e9-a114-278ca1f24c9f",
   "metadata": {},
   "source": [
    "# 1. Check Data Types: "
   ]
  },
  {
   "cell_type": "markdown",
   "id": "4f99db4f-a462-4345-8e92-8bf112bb001f",
   "metadata": {},
   "source": [
    "# Re-examine the data types of all columns using df.info(). "
   ]
  },
  {
   "cell_type": "code",
   "execution_count": 221,
   "id": "235d1198-db74-4dd3-8233-90353fc509eb",
   "metadata": {},
   "outputs": [
    {
     "data": {
      "text/plain": [
       "Employee_ID           object\n",
       "Name                  object\n",
       "Age                  float64\n",
       "Department            object\n",
       "Salary               float64\n",
       "Join_Date             object\n",
       "Performance_Score    float64\n",
       "Manager               object\n",
       "Bonus_Eligible        object\n",
       "Remarks               object\n",
       "dtype: object"
      ]
     },
     "execution_count": 221,
     "metadata": {},
     "output_type": "execute_result"
    }
   ],
   "source": [
    "df.dtypes"
   ]
  },
  {
   "cell_type": "code",
   "execution_count": 222,
   "id": "dbdb3f79-728a-47dd-8e0f-a56b0919a583",
   "metadata": {},
   "outputs": [
    {
     "data": {
      "text/plain": [
       "Employee_ID           object\n",
       "Name                  object\n",
       "Age                  float64\n",
       "Department            object\n",
       "Salary               float64\n",
       "Join_Date             object\n",
       "Performance_Score    float64\n",
       "Manager               object\n",
       "Bonus_Eligible        object\n",
       "dtype: object"
      ]
     },
     "execution_count": 222,
     "metadata": {},
     "output_type": "execute_result"
    }
   ],
   "source": [
    "df_cleaned.dtypes"
   ]
  },
  {
   "cell_type": "code",
   "execution_count": 223,
   "id": "87b29001-4206-4ddf-bf19-1c80b21880d2",
   "metadata": {},
   "outputs": [
    {
     "name": "stdout",
     "output_type": "stream",
     "text": [
      "<class 'pandas.core.frame.DataFrame'>\n",
      "RangeIndex: 101 entries, 0 to 100\n",
      "Data columns (total 10 columns):\n",
      " #   Column             Non-Null Count  Dtype  \n",
      "---  ------             --------------  -----  \n",
      " 0   Employee_ID        101 non-null    object \n",
      " 1   Name               91 non-null     object \n",
      " 2   Age                69 non-null     float64\n",
      " 3   Department         77 non-null     object \n",
      " 4   Salary             75 non-null     float64\n",
      " 5   Join_Date          101 non-null    object \n",
      " 6   Performance_Score  81 non-null     float64\n",
      " 7   Manager            88 non-null     object \n",
      " 8   Bonus_Eligible     88 non-null     object \n",
      " 9   Remarks            46 non-null     object \n",
      "dtypes: float64(3), object(7)\n",
      "memory usage: 8.0+ KB\n"
     ]
    }
   ],
   "source": [
    "df.info()"
   ]
  },
  {
   "cell_type": "code",
   "execution_count": 224,
   "id": "2deaac93-912a-4f5d-84af-7f2a1a6304a9",
   "metadata": {},
   "outputs": [
    {
     "name": "stdout",
     "output_type": "stream",
     "text": [
      "<class 'pandas.core.frame.DataFrame'>\n",
      "RangeIndex: 101 entries, 0 to 100\n",
      "Data columns (total 9 columns):\n",
      " #   Column             Non-Null Count  Dtype  \n",
      "---  ------             --------------  -----  \n",
      " 0   Employee_ID        101 non-null    object \n",
      " 1   Name               101 non-null    object \n",
      " 2   Age                101 non-null    float64\n",
      " 3   Department         101 non-null    object \n",
      " 4   Salary             101 non-null    float64\n",
      " 5   Join_Date          101 non-null    object \n",
      " 6   Performance_Score  101 non-null    float64\n",
      " 7   Manager            101 non-null    object \n",
      " 8   Bonus_Eligible     101 non-null    object \n",
      "dtypes: float64(3), object(6)\n",
      "memory usage: 7.2+ KB\n"
     ]
    }
   ],
   "source": [
    "df_cleaned.info()"
   ]
  },
  {
   "cell_type": "markdown",
   "id": "103b7826-6f89-49a9-8dfb-eb11d701b317",
   "metadata": {},
   "source": [
    "# Are there any columns that are currently of type object but should be numerical or datetime? Identify them. "
   ]
  },
  {
   "cell_type": "markdown",
   "id": "37149ffa-410e-4aee-aca0-ef5df91038d5",
   "metadata": {},
   "source": [
    "Yes, the join_date column is currently of type object but should be converted to datetime for accurate time-based analysis."
   ]
  },
  {
   "cell_type": "markdown",
   "id": "489aee01-c096-4118-8aeb-ac8a3a35aea7",
   "metadata": {},
   "source": [
    "# 2. Clean Numeric Columns: \n",
    "# Assume 'Salary' and 'Years_Experience' should be numeric. Identify any non-numeric characters or inconsistencies (e.g., currency symbols, commas, spaces) that might prevent direct conversion. "
   ]
  },
  {
   "cell_type": "code",
   "execution_count": 225,
   "id": "009276e0-6a25-465c-840f-94045cab848d",
   "metadata": {},
   "outputs": [
    {
     "name": "stdout",
     "output_type": "stream",
     "text": [
      "[65000. 55000. 50000. 60000.]\n"
     ]
    }
   ],
   "source": [
    "print(df_cleaned['Salary'].unique())"
   ]
  },
  {
   "cell_type": "markdown",
   "id": "fbbb3b54-c1f4-4473-bf14-ae545b80284f",
   "metadata": {},
   "source": [
    "# Write code to clean these columns (remove non-numeric characters) and convert them to an appropriate numeric data type (e.g., float or int). Handle any conversion errors gracefully. "
   ]
  },
  {
   "cell_type": "markdown",
   "id": "ac44e368-5d51-4376-a46f-df887bdd9a4f",
   "metadata": {},
   "source": [
    "No such conversion is required. Only empty salary columns are found and they are handled above. "
   ]
  },
  {
   "cell_type": "markdown",
   "id": "cb775d00-d556-4a40-96bc-a46ac99d9088",
   "metadata": {},
   "source": [
    "# 3. Clean String Columns"
   ]
  },
  {
   "cell_type": "markdown",
   "id": "e8040d49-34b4-4df8-a11e-c63e347d21c6",
   "metadata": {},
   "source": [
    "# Examine string-based columns like 'Department', 'Gender', and 'Job_Role'. Are there any leading/trailing spaces or inconsistent casing (e.g., \"HR\" vs \"hr\", \"Marketing \" vs \"Marketing\")? "
   ]
  },
  {
   "cell_type": "markdown",
   "id": "c2474643-87d4-4744-939c-cf8a60489dc9",
   "metadata": {},
   "source": [
    "# Standardize the string columns by stripping whitespace and converting text to a consistent case (e.g., title case or capitalize first letter). "
   ]
  },
  {
   "cell_type": "code",
   "execution_count": 226,
   "id": "157842b5-face-49ab-92e6-2d8f94d97d57",
   "metadata": {},
   "outputs": [
    {
     "data": {
      "text/html": [
       "<div>\n",
       "<style scoped>\n",
       "    .dataframe tbody tr th:only-of-type {\n",
       "        vertical-align: middle;\n",
       "    }\n",
       "\n",
       "    .dataframe tbody tr th {\n",
       "        vertical-align: top;\n",
       "    }\n",
       "\n",
       "    .dataframe thead th {\n",
       "        text-align: right;\n",
       "    }\n",
       "</style>\n",
       "<table border=\"1\" class=\"dataframe\">\n",
       "  <thead>\n",
       "    <tr style=\"text-align: right;\">\n",
       "      <th></th>\n",
       "      <th>Employee_ID</th>\n",
       "      <th>Name</th>\n",
       "      <th>Age</th>\n",
       "      <th>Department</th>\n",
       "      <th>Salary</th>\n",
       "      <th>Join_Date</th>\n",
       "      <th>Performance_Score</th>\n",
       "      <th>Manager</th>\n",
       "      <th>Bonus_Eligible</th>\n",
       "    </tr>\n",
       "  </thead>\n",
       "  <tbody>\n",
       "    <tr>\n",
       "      <th>0</th>\n",
       "      <td>E0001</td>\n",
       "      <td>Unknown</td>\n",
       "      <td>25.0</td>\n",
       "      <td>Hr</td>\n",
       "      <td>65000.0</td>\n",
       "      <td>2023-06-30</td>\n",
       "      <td>5.0</td>\n",
       "      <td>Blake Moore</td>\n",
       "      <td>No</td>\n",
       "    </tr>\n",
       "    <tr>\n",
       "      <th>1</th>\n",
       "      <td>E0002</td>\n",
       "      <td>James Chavez</td>\n",
       "      <td>35.0</td>\n",
       "      <td>Hr</td>\n",
       "      <td>55000.0</td>\n",
       "      <td>2024-02-13</td>\n",
       "      <td>1.0</td>\n",
       "      <td>Richard Mills</td>\n",
       "      <td>Yes</td>\n",
       "    </tr>\n",
       "    <tr>\n",
       "      <th>2</th>\n",
       "      <td>E0003</td>\n",
       "      <td>Shane Williams</td>\n",
       "      <td>25.0</td>\n",
       "      <td>It</td>\n",
       "      <td>50000.0</td>\n",
       "      <td>2025-02-04</td>\n",
       "      <td>1.0</td>\n",
       "      <td>Tyler Whitney</td>\n",
       "      <td>Yes</td>\n",
       "    </tr>\n",
       "    <tr>\n",
       "      <th>3</th>\n",
       "      <td>E0004</td>\n",
       "      <td>Mr. Joseph Lewis</td>\n",
       "      <td>30.0</td>\n",
       "      <td>It</td>\n",
       "      <td>55000.0</td>\n",
       "      <td>2023-10-31</td>\n",
       "      <td>5.0</td>\n",
       "      <td>Nicole Cardenas</td>\n",
       "      <td>No</td>\n",
       "    </tr>\n",
       "    <tr>\n",
       "      <th>4</th>\n",
       "      <td>E0005</td>\n",
       "      <td>Dr. Eric Weiss</td>\n",
       "      <td>30.0</td>\n",
       "      <td>Hr</td>\n",
       "      <td>60000.0</td>\n",
       "      <td>2021-12-12</td>\n",
       "      <td>4.0</td>\n",
       "      <td>Ronald Lucero</td>\n",
       "      <td>Yes</td>\n",
       "    </tr>\n",
       "    <tr>\n",
       "      <th>...</th>\n",
       "      <td>...</td>\n",
       "      <td>...</td>\n",
       "      <td>...</td>\n",
       "      <td>...</td>\n",
       "      <td>...</td>\n",
       "      <td>...</td>\n",
       "      <td>...</td>\n",
       "      <td>...</td>\n",
       "      <td>...</td>\n",
       "    </tr>\n",
       "    <tr>\n",
       "      <th>96</th>\n",
       "      <td>E0097</td>\n",
       "      <td>Joseph Lopez Phd</td>\n",
       "      <td>35.0</td>\n",
       "      <td>It</td>\n",
       "      <td>55000.0</td>\n",
       "      <td>2022-01-07</td>\n",
       "      <td>2.0</td>\n",
       "      <td>Blake Moore</td>\n",
       "      <td>Yes</td>\n",
       "    </tr>\n",
       "    <tr>\n",
       "      <th>97</th>\n",
       "      <td>E0098</td>\n",
       "      <td>Jason Yang</td>\n",
       "      <td>30.0</td>\n",
       "      <td>Hr</td>\n",
       "      <td>55000.0</td>\n",
       "      <td>2021-08-29</td>\n",
       "      <td>3.0</td>\n",
       "      <td>Cheryl Oconnor</td>\n",
       "      <td>No</td>\n",
       "    </tr>\n",
       "    <tr>\n",
       "      <th>98</th>\n",
       "      <td>E0099</td>\n",
       "      <td>Vanessa Clark</td>\n",
       "      <td>25.0</td>\n",
       "      <td>It</td>\n",
       "      <td>65000.0</td>\n",
       "      <td>2023-07-01</td>\n",
       "      <td>5.0</td>\n",
       "      <td>Marie Velez</td>\n",
       "      <td>Yes</td>\n",
       "    </tr>\n",
       "    <tr>\n",
       "      <th>99</th>\n",
       "      <td>E0100</td>\n",
       "      <td>Craig Blair</td>\n",
       "      <td>30.0</td>\n",
       "      <td>It</td>\n",
       "      <td>65000.0</td>\n",
       "      <td>2020-10-13</td>\n",
       "      <td>3.0</td>\n",
       "      <td>Dr. Andrew Thomas</td>\n",
       "      <td>Yes</td>\n",
       "    </tr>\n",
       "    <tr>\n",
       "      <th>100</th>\n",
       "      <td>E0006</td>\n",
       "      <td>Nichole Montgomery</td>\n",
       "      <td>35.0</td>\n",
       "      <td>It</td>\n",
       "      <td>55000.0</td>\n",
       "      <td>2022-05-28</td>\n",
       "      <td>2.0</td>\n",
       "      <td>Blake Moore</td>\n",
       "      <td>No</td>\n",
       "    </tr>\n",
       "  </tbody>\n",
       "</table>\n",
       "<p>101 rows × 9 columns</p>\n",
       "</div>"
      ],
      "text/plain": [
       "    Employee_ID                Name   Age Department   Salary   Join_Date  \\\n",
       "0         E0001             Unknown  25.0         Hr  65000.0  2023-06-30   \n",
       "1         E0002        James Chavez  35.0         Hr  55000.0  2024-02-13   \n",
       "2         E0003      Shane Williams  25.0         It  50000.0  2025-02-04   \n",
       "3         E0004    Mr. Joseph Lewis  30.0         It  55000.0  2023-10-31   \n",
       "4         E0005      Dr. Eric Weiss  30.0         Hr  60000.0  2021-12-12   \n",
       "..          ...                 ...   ...        ...      ...         ...   \n",
       "96        E0097    Joseph Lopez Phd  35.0         It  55000.0  2022-01-07   \n",
       "97        E0098          Jason Yang  30.0         Hr  55000.0  2021-08-29   \n",
       "98        E0099       Vanessa Clark  25.0         It  65000.0  2023-07-01   \n",
       "99        E0100         Craig Blair  30.0         It  65000.0  2020-10-13   \n",
       "100       E0006  Nichole Montgomery  35.0         It  55000.0  2022-05-28   \n",
       "\n",
       "     Performance_Score            Manager Bonus_Eligible  \n",
       "0                  5.0        Blake Moore             No  \n",
       "1                  1.0      Richard Mills            Yes  \n",
       "2                  1.0      Tyler Whitney            Yes  \n",
       "3                  5.0    Nicole Cardenas             No  \n",
       "4                  4.0      Ronald Lucero            Yes  \n",
       "..                 ...                ...            ...  \n",
       "96                 2.0        Blake Moore            Yes  \n",
       "97                 3.0     Cheryl Oconnor             No  \n",
       "98                 5.0        Marie Velez            Yes  \n",
       "99                 3.0  Dr. Andrew Thomas            Yes  \n",
       "100                2.0        Blake Moore             No  \n",
       "\n",
       "[101 rows x 9 columns]"
      ]
     },
     "execution_count": 226,
     "metadata": {},
     "output_type": "execute_result"
    }
   ],
   "source": [
    "# To ensure these columns are not inconsistent \n",
    "df_cleaned['Name'] = df_cleaned['Name'].str.strip().str.title()\n",
    "df_cleaned['Department'] = df_cleaned['Department'].str.strip().str.capitalize()\n",
    "df_cleaned['Manager'] = df_cleaned['Manager'].str.strip().str.title()\n",
    "\n",
    "df_cleaned"
   ]
  },
  {
   "cell_type": "code",
   "execution_count": 227,
   "id": "dd4b7527-64ac-4738-b784-37476b01ceec",
   "metadata": {},
   "outputs": [
    {
     "name": "stdout",
     "output_type": "stream",
     "text": [
      "['Unknown' 'James Chavez' 'Shane Williams' 'Mr. Joseph Lewis'\n",
      " 'Dr. Eric Weiss' 'Nichole Montgomery' 'Emily Foley' 'Bailey Howard Md'\n",
      " 'Nicholas Watkins' 'Christopher Lucas' 'Juan Kennedy' 'Michael Zavala'\n",
      " 'Derek Fuller' 'Edward Rogers' 'Phillip Martin' 'Linda Spencer'\n",
      " 'Candace Walton' 'Kenneth Miller' 'Heather Walters' 'John Lee'\n",
      " 'Brent Higgins' 'Victor Knight' 'Marcus Wheeler' 'Joseph Hunt'\n",
      " 'Sara Bolton' 'Ethan Shields' 'Tamara Pena' 'Nicole Ray'\n",
      " 'Nicolas Williams' 'Susan Cole' 'Kelly Shannon' 'Isabel Riley'\n",
      " 'Nicole Pierce' 'Suzanne Frank' 'Dustin Morrison' 'Kyle May'\n",
      " 'Carol Brown' 'Gavin Ross' 'Sharon Reed' 'Jorge Best' 'Elizabeth Martin'\n",
      " 'Madeline Huynh' 'Ariel Mcintyre' 'Charles Perkins' 'Ryan Moss'\n",
      " 'Jeffrey Ellis' 'Jennifer Green' 'Rhonda Jackson' 'Kevin Christensen'\n",
      " 'Stephanie Bond' 'Jade Nash' 'William Newton' 'Tara Garcia'\n",
      " 'Jeremiah Malone' 'Michael Cooper' 'Heather Morse' 'Patrick Waller'\n",
      " 'Carrie Ramirez' 'Denise Ashley' 'Ashley Ball' 'Ronald Baker'\n",
      " 'Omar Hoffman' 'Steven Lopez' 'Rebecca Rodriguez' 'Maria Lee'\n",
      " 'Christopher Peters' 'Taylor Taylor' 'Christopher Barr' 'Katie Henderson'\n",
      " 'Barbara Bradshaw' 'Amanda Mendez' 'Terry Kennedy' 'Dawn Warren'\n",
      " 'Willie Hahn' 'Lindsey Walker' 'Nancy Olson' 'Katherine Brown'\n",
      " 'Sonya Brown' 'Julie Clarke' 'Mr. Hector Thomas' 'Sara Friedman'\n",
      " 'Bianca Edwards' 'Kimberly Jones' 'Joseph Key' 'Barbara Stewart'\n",
      " 'Gina Craig' 'Sharon Crawford' 'Joseph Lopez Phd' 'Jason Yang'\n",
      " 'Vanessa Clark' 'Craig Blair']\n",
      "['Hr' 'It' 'Finance' 'Sales']\n",
      "['Blake Moore' 'Richard Mills' 'Tyler Whitney' 'Nicole Cardenas'\n",
      " 'Ronald Lucero' 'Brett Williams' 'Karen Jones' 'Ryan Nolan'\n",
      " 'Bradley Davis' 'Kevin Wallace' 'Kenneth Pitts' 'Sarah Smith'\n",
      " 'Tara Fleming' 'Stephanie Miller' 'Collin Maddox' 'Mario Ford'\n",
      " 'Andrew Savage' 'Adrian Ryan' 'Curtis Bush' 'Jamie Shelton'\n",
      " 'Brian Marshall' 'Evelyn Lopez' 'Miranda Morris' 'Gregory Jones'\n",
      " 'Kimberly Gonzales' 'Traci Green' 'Victoria Johnson' 'Amber Cummings'\n",
      " 'Cory Wood' 'Mary Reynolds' 'Debra Ochoa' 'Michelle Johnson'\n",
      " 'Zoe Mercado' 'Miss Jennifer Zhang' 'Troy Hubbard' 'Cheryl Brooks'\n",
      " 'Elizabeth Anderson' 'Julia Jones' 'Sheila Miller' 'Thomas Raymond'\n",
      " 'Erin Dixon' 'Mary Huang' 'Jeffrey Dawson' 'Sarah Allen' 'Jordan Henry'\n",
      " 'Jennifer Mccoy' 'Terry Conley' 'Marc Mason' 'Alexandria Hurley'\n",
      " 'Martha Moore' 'Kevin Davis' 'Danielle Andrews' 'William Figueroa'\n",
      " 'Shelby Hoffman' 'James Brown' 'Hailey Hunt' 'Sylvia Pruitt'\n",
      " 'Tamara Vaughn' 'Dawn Watts' 'Michelle Wilson' 'Christine White'\n",
      " 'Ryan Riddle' 'Lawrence Bradley' 'Stephanie Griffin' 'Stephanie Petersen'\n",
      " 'Crystal Brown' 'Kara Jones' 'Tammy Olson' 'Destiny Barber'\n",
      " 'Amber Watkins' 'Richard Hickman' 'Makayla Reid' 'Dean Hunter'\n",
      " 'Jennifer Pitts' 'Joshua Williams' 'Justin Smith' 'Rose Martin'\n",
      " 'Alan Bowers' 'Jorge Contreras' 'Kayla Mcgee' 'Antonio Diaz'\n",
      " 'Cheryl Leblanc' 'Dylan Andrews' 'Diana Spears' 'Cheryl Oconnor'\n",
      " 'Marie Velez' 'Dr. Andrew Thomas']\n"
     ]
    }
   ],
   "source": [
    "print(df_cleaned['Name'].unique())\n",
    "print(df_cleaned['Department'].unique())\n",
    "print(df_cleaned['Manager'].unique())"
   ]
  },
  {
   "cell_type": "markdown",
   "id": "ffb621b9-4f42-41dc-9d43-38be471d8be9",
   "metadata": {},
   "source": [
    "# Date Column"
   ]
  },
  {
   "cell_type": "markdown",
   "id": "4d646032-89ca-4f4f-aef1-8858a5260167",
   "metadata": {},
   "source": [
    "# If there's a 'Date' or 'Hire_Date' column (check the actual dataset), identify its current data type. "
   ]
  },
  {
   "cell_type": "code",
   "execution_count": 228,
   "id": "5f3b8cb4-6ded-422c-832d-7fa8d374336f",
   "metadata": {},
   "outputs": [
    {
     "name": "stdout",
     "output_type": "stream",
     "text": [
      "Join_Date    object\n",
      "dtype: object\n"
     ]
    }
   ],
   "source": [
    "print(df_cleaned.dtypes[['Join_Date']])"
   ]
  },
  {
   "cell_type": "markdown",
   "id": "44fc2258-ad91-4558-ad43-ce2d4eb70390",
   "metadata": {},
   "source": [
    "# Convert it to a proper datetime object. "
   ]
  },
  {
   "cell_type": "code",
   "execution_count": 229,
   "id": "2c587129-f3d5-4e39-8cad-eee918879100",
   "metadata": {},
   "outputs": [
    {
     "name": "stdout",
     "output_type": "stream",
     "text": [
      "0     2023-06-30\n",
      "1     2024-02-13\n",
      "2     2025-02-04\n",
      "3     2023-10-31\n",
      "4     2021-12-12\n",
      "         ...    \n",
      "96    2022-01-07\n",
      "97    2021-08-29\n",
      "98    2023-07-01\n",
      "99    2020-10-13\n",
      "100   2022-05-28\n",
      "Name: Join_Date, Length: 101, dtype: datetime64[ns]\n"
     ]
    }
   ],
   "source": [
    "df_cleaned['Join_Date'] = pd.to_datetime(df_cleaned['Join_Date'], errors='coerce')\n",
    "print(df_cleaned['Join_Date'])"
   ]
  },
  {
   "cell_type": "markdown",
   "id": "5ec37104-2f90-4c57-9425-064e93414962",
   "metadata": {},
   "source": [
    "# Scenario 4: Handling Duplicates and Outliers "
   ]
  },
  {
   "cell_type": "markdown",
   "id": "7ec8f9cf-1de3-48cb-94fc-0f16673f3064",
   "metadata": {},
   "source": [
    "# 1. Identify Duplicates"
   ]
  },
  {
   "cell_type": "markdown",
   "id": "4e589082-2747-4c11-973f-da7f48f6566d",
   "metadata": {},
   "source": [
    "# Check for completely duplicate rows in the DataFrame. How many are there? "
   ]
  },
  {
   "cell_type": "code",
   "execution_count": 230,
   "id": "bf89df35-ee6a-42e6-901f-08647c598f60",
   "metadata": {},
   "outputs": [
    {
     "name": "stdout",
     "output_type": "stream",
     "text": [
      "Number of completely duplicate rows: 1\n"
     ]
    }
   ],
   "source": [
    "duplicate_rows = df_cleaned.duplicated()\n",
    "print(\"Number of completely duplicate rows:\", duplicate_rows.sum())"
   ]
  },
  {
   "cell_type": "markdown",
   "id": "6d88effb-1abd-4017-a4ff-8b753fcffdb7",
   "metadata": {},
   "source": [
    "# Consider specific columns that might indicate a unique employee (e.g., 'Employee_ID' if it exists, or a combination like 'Name' and 'Hire_Date'). Check for duplicates based on these key columns. "
   ]
  },
  {
   "cell_type": "code",
   "execution_count": 231,
   "id": "a092d77e-b429-47fd-9ba8-49e015d661c0",
   "metadata": {},
   "outputs": [
    {
     "name": "stdout",
     "output_type": "stream",
     "text": [
      "Duplicate rows based on Employee_ID: 1\n"
     ]
    }
   ],
   "source": [
    "duplicate_ids = df_cleaned.duplicated(subset=['Employee_ID'])\n",
    "print(\"Duplicate rows based on Employee_ID:\", duplicate_ids.sum())"
   ]
  },
  {
   "cell_type": "code",
   "execution_count": 232,
   "id": "b2184df0-68c6-4f64-b03a-68b48a0832ae",
   "metadata": {},
   "outputs": [
    {
     "name": "stdout",
     "output_type": "stream",
     "text": [
      "Duplicate rows based on Name and Join_Date: 1\n"
     ]
    }
   ],
   "source": [
    "duplicate_keys = df_cleaned.duplicated(subset=['Name', 'Join_Date'])\n",
    "print(\"Duplicate rows based on Name and Join_Date:\", duplicate_keys.sum())"
   ]
  },
  {
   "cell_type": "markdown",
   "id": "81c88079-d64d-4527-ab06-cf57196295c3",
   "metadata": {},
   "source": [
    "# 2. Remove Duplicates"
   ]
  },
  {
   "cell_type": "markdown",
   "id": "303d274f-cb1e-4e3b-af41-658ac78b8182",
   "metadata": {},
   "source": [
    "# Remove any identified duplicate rows from the DataFrame. Decide whether to keep the first or last occurrence, and explain why you chose that. "
   ]
  },
  {
   "cell_type": "code",
   "execution_count": 233,
   "id": "6cac8ac8-398d-45d8-8552-b52e4d80fec4",
   "metadata": {},
   "outputs": [],
   "source": [
    "df_cleaned = df_cleaned.drop_duplicates(keep='first')"
   ]
  },
  {
   "cell_type": "markdown",
   "id": "1ead94b1-ad98-40d5-be5b-c2901bede897",
   "metadata": {},
   "source": [
    "Keeping the first occurrence is the default and safest choice, as it typically represents the original, intended entry. Later duplicates are often redundant or accidentally introduced during data processing."
   ]
  },
  {
   "cell_type": "markdown",
   "id": "a160c695-80c4-4eb2-ac31-2368f2d7e1ec",
   "metadata": {},
   "source": [
    "# Verify that duplicates have been removed. "
   ]
  },
  {
   "cell_type": "code",
   "execution_count": 234,
   "id": "9b496245-ab6b-47e5-92e3-671bc087750c",
   "metadata": {},
   "outputs": [
    {
     "name": "stdout",
     "output_type": "stream",
     "text": [
      "Remaining duplicate rows: 0\n"
     ]
    }
   ],
   "source": [
    "print(\"Remaining duplicate rows:\", df_cleaned.duplicated().sum())"
   ]
  },
  {
   "cell_type": "markdown",
   "id": "13b23f32-a136-453d-b3d1-3384ff5a85e3",
   "metadata": {},
   "source": [
    "# 3. Basic Outlier Identification"
   ]
  },
  {
   "cell_type": "markdown",
   "id": "6cc2a3d5-7cd3-4328-85cf-58fe5d194c38",
   "metadata": {},
   "source": [
    "# For a key numerical column like 'Salary' or 'Years_Experience', calculate its basic descriptive statistics (min, max, mean, std, quartiles). "
   ]
  },
  {
   "cell_type": "code",
   "execution_count": 235,
   "id": "1f87dde6-6304-4de8-a0ff-fdadb4879a81",
   "metadata": {},
   "outputs": [
    {
     "name": "stdout",
     "output_type": "stream",
     "text": [
      "Salary Statistics:\n",
      " count      100.000000\n",
      "mean     56450.000000\n",
      "std       4782.913613\n",
      "min      50000.000000\n",
      "25%      55000.000000\n",
      "50%      55000.000000\n",
      "75%      60000.000000\n",
      "max      65000.000000\n",
      "Name: Salary, dtype: float64\n"
     ]
    }
   ],
   "source": [
    "print(\"Salary Statistics:\\n\", df_cleaned['Salary'].describe())"
   ]
  },
  {
   "cell_type": "markdown",
   "id": "757aeb52-9d04-4ba5-8d9a-b7172792141c",
   "metadata": {},
   "source": [
    "# Based on these statistics, are there any values that appear to be unusually high or low and might be considered outliers?"
   ]
  },
  {
   "cell_type": "code",
   "execution_count": 236,
   "id": "c48b54ec-d47e-4114-96b7-be58203b5113",
   "metadata": {},
   "outputs": [
    {
     "name": "stdout",
     "output_type": "stream",
     "text": [
      "High:  47500.0\n",
      "Low:  67500.0\n",
      "Series([], Name: Employee_ID, dtype: object)\n",
      "No of outliers:  0\n"
     ]
    }
   ],
   "source": [
    "salarystats = df_cleaned['Salary'].describe()\n",
    "q1=salarystats[\"25%\"]\n",
    "q3=salarystats[\"75%\"]\n",
    "iqr=q3-q1\n",
    "lower=q1-1.5*iqr\n",
    "upper=q3+1.5*iqr\n",
    "print('High: ',lower)\n",
    "print('Low: ',upper)\n",
    "outliers=df[(df['Salary']<lower)|(df['Salary']>upper)]\n",
    "print(outliers['Employee_ID'])\n",
    "print('No of outliers: ',len(outliers))"
   ]
  },
  {
   "cell_type": "markdown",
   "id": "9ee677fb-966a-4ea5-8958-980237c705ca",
   "metadata": {},
   "source": [
    "# Scenario 5: Exploratory Data Analysis (EDA) - Series & DataFrame Operations "
   ]
  },
  {
   "cell_type": "markdown",
   "id": "4a2d894a-1833-48a9-86da-d1c6fa694a93",
   "metadata": {},
   "source": [
    "# 1. Descriptive Statistics"
   ]
  },
  {
   "cell_type": "markdown",
   "id": "cc3111c3-a69f-44b3-8f71-0d4cd5ea9cf7",
   "metadata": {},
   "source": [
    "# Generate descriptive statistics for all numerical columns. What do these statistics tell you about the distribution and central tendency of Salary and Years_Experience? "
   ]
  },
  {
   "cell_type": "code",
   "execution_count": 237,
   "id": "4ea0e33f-00a7-4281-99c4-fe1db573a940",
   "metadata": {},
   "outputs": [
    {
     "name": "stdout",
     "output_type": "stream",
     "text": [
      "              Age        Salary            Join_Date  Performance_Score\n",
      "count  100.000000    100.000000                  100          100.00000\n",
      "mean    29.750000  56450.000000  2023-03-06 06:28:48            2.83000\n",
      "min     25.000000  50000.000000  2020-07-22 00:00:00            1.00000\n",
      "25%     25.000000  55000.000000  2021-11-04 18:00:00            2.00000\n",
      "50%     30.000000  55000.000000  2023-05-18 12:00:00            2.00000\n",
      "75%     30.000000  60000.000000  2024-05-29 06:00:00            4.00000\n",
      "max     35.000000  65000.000000  2025-06-05 00:00:00            5.00000\n",
      "std      3.435921   4782.913613                  NaN            1.29533\n"
     ]
    }
   ],
   "source": [
    "print(df_cleaned.describe())"
   ]
  },
  {
   "cell_type": "markdown",
   "id": "38f91449-71cd-4b83-8d19-fcf6943182e5",
   "metadata": {},
   "source": [
    "# 2. Value Counts "
   ]
  },
  {
   "cell_type": "markdown",
   "id": "5a738fb5-ddbf-4a82-b437-3b759ff8eb07",
   "metadata": {},
   "source": [
    "# Use .value_counts() on the 'Department' column. Which departments have the most employees? "
   ]
  },
  {
   "cell_type": "code",
   "execution_count": 238,
   "id": "5d93e84e-974b-4ac2-bc08-d73659e23894",
   "metadata": {},
   "outputs": [
    {
     "name": "stdout",
     "output_type": "stream",
     "text": [
      "Department\n",
      "It         47\n",
      "Finance    23\n",
      "Sales      16\n",
      "Hr         14\n",
      "Name: count, dtype: int64\n",
      "Department with the most employees: It\n"
     ]
    }
   ],
   "source": [
    "print(df_cleaned['Department'].value_counts())\n",
    "common = df_cleaned['Department'].value_counts().idxmax()\n",
    "print(\"Department with the most employees:\", common)"
   ]
  },
  {
   "cell_type": "markdown",
   "id": "94b7539b-0bb4-4fdc-a0c1-52d002cb3428",
   "metadata": {},
   "source": [
    "# Do the same for 'Gender' and 'Job_Role'. What insights can you derive? "
   ]
  },
  {
   "cell_type": "markdown",
   "id": "571df528-a8fd-4c4f-b541-6c7aa2a3488f",
   "metadata": {},
   "source": [
    "No such columns in dataset"
   ]
  },
  {
   "cell_type": "code",
   "execution_count": 239,
   "id": "52771337-ae38-40f4-a6b5-1432937a72dc",
   "metadata": {},
   "outputs": [
    {
     "name": "stdout",
     "output_type": "stream",
     "text": [
      "Bonus_Eligible\n",
      "Yes    58\n",
      "No     42\n",
      "Name: count, dtype: int64\n"
     ]
    }
   ],
   "source": [
    "print(df_cleaned['Bonus_Eligible'].value_counts())"
   ]
  },
  {
   "cell_type": "code",
   "execution_count": 240,
   "id": "91af3031-e890-415b-97f0-a6c2b9dee20d",
   "metadata": {},
   "outputs": [
    {
     "name": "stdout",
     "output_type": "stream",
     "text": [
      "Manager\n",
      "Blake Moore          14\n",
      "Richard Mills         1\n",
      "Tyler Whitney         1\n",
      "Nicole Cardenas       1\n",
      "Ronald Lucero         1\n",
      "                     ..\n",
      "Dylan Andrews         1\n",
      "Diana Spears          1\n",
      "Cheryl Oconnor        1\n",
      "Marie Velez           1\n",
      "Dr. Andrew Thomas     1\n",
      "Name: count, Length: 87, dtype: int64\n"
     ]
    }
   ],
   "source": [
    "print(df_cleaned['Manager'].value_counts())"
   ]
  },
  {
   "cell_type": "markdown",
   "id": "054fd17e-4487-4139-880b-e82e1b2b55fa",
   "metadata": {},
   "source": [
    "# Filtering and Subsetting (DataFrame)"
   ]
  },
  {
   "cell_type": "markdown",
   "id": "ff21207c-7dea-44b3-9965-27ad268a2c6b",
   "metadata": {},
   "source": [
    "# Create a new DataFrame containing only employees from the 'Sales' department. How many sales employees are there? "
   ]
  },
  {
   "cell_type": "code",
   "execution_count": 241,
   "id": "ec7db0ad-41e0-4d7a-bd2f-4651faf6a6e9",
   "metadata": {},
   "outputs": [
    {
     "name": "stdout",
     "output_type": "stream",
     "text": [
      "   Employee_ID              Name   Age Department   Salary  Join_Date  \\\n",
      "7        E0008  Bailey Howard Md  30.0      Sales  65000.0 2022-10-13   \n",
      "12       E0013    Michael Zavala  30.0      Sales  55000.0 2021-07-07   \n",
      "18       E0019    Kenneth Miller  35.0      Sales  55000.0 2023-08-09   \n",
      "26       E0027       Sara Bolton  30.0      Sales  50000.0 2022-07-15   \n",
      "32       E0033        Susan Cole  30.0      Sales  55000.0 2021-11-22   \n",
      "33       E0034     Kelly Shannon  25.0      Sales  55000.0 2020-12-27   \n",
      "34       E0035      Isabel Riley  30.0      Sales  55000.0 2024-08-11   \n",
      "35       E0036     Nicole Pierce  25.0      Sales  55000.0 2023-02-25   \n",
      "41       E0042        Gavin Ross  35.0      Sales  55000.0 2024-04-11   \n",
      "46       E0047    Ariel Mcintyre  30.0      Sales  50000.0 2025-04-16   \n",
      "52       E0053    Rhonda Jackson  30.0      Sales  65000.0 2024-08-09   \n",
      "54       E0055    Stephanie Bond  30.0      Sales  50000.0 2020-11-03   \n",
      "58       E0059   Jeremiah Malone  30.0      Sales  50000.0 2024-03-22   \n",
      "75       E0076   Katie Henderson  30.0      Sales  55000.0 2023-10-21   \n",
      "85       E0086       Sonya Brown  35.0      Sales  55000.0 2020-12-25   \n",
      "95       E0096   Sharon Crawford  25.0      Sales  55000.0 2025-06-05   \n",
      "\n",
      "    Performance_Score          Manager Bonus_Eligible  \n",
      "7                 4.0      Karen Jones            Yes  \n",
      "12                4.0    Kenneth Pitts            Yes  \n",
      "18                4.0       Mario Ford            Yes  \n",
      "26                5.0   Miranda Morris            Yes  \n",
      "32                2.0      Blake Moore             No  \n",
      "33                2.0        Cory Wood            Yes  \n",
      "34                2.0    Mary Reynolds            Yes  \n",
      "35                2.0      Debra Ochoa             No  \n",
      "41                2.0    Cheryl Brooks            Yes  \n",
      "46                3.0       Erin Dixon            Yes  \n",
      "52                3.0   Jennifer Mccoy            Yes  \n",
      "54                3.0       Marc Mason            Yes  \n",
      "58                5.0      Kevin Davis             No  \n",
      "75                2.0    Crystal Brown            Yes  \n",
      "85                2.0  Joshua Williams            Yes  \n",
      "95                5.0     Diana Spears            Yes  \n",
      "Number of Sales employees: 16\n"
     ]
    }
   ],
   "source": [
    "sales_df = df_cleaned[df_cleaned['Department'] == 'Sales']\n",
    "print(sales_df)\n",
    "print(\"Number of Sales employees:\", len(sales_df))"
   ]
  },
  {
   "cell_type": "markdown",
   "id": "881af31a-a79a-42b3-b2ad-c4525b83b936",
   "metadata": {},
   "source": [
    "# Find all employees with 'Years_Experience' greater than 10. "
   ]
  },
  {
   "cell_type": "code",
   "execution_count": 242,
   "id": "db68805b-cb16-4ca8-bd0b-131129202e14",
   "metadata": {},
   "outputs": [],
   "source": [
    "from pandas import Timestamp"
   ]
  },
  {
   "cell_type": "code",
   "execution_count": 243,
   "id": "9347767c-c158-439d-bb69-0f0db173b8bd",
   "metadata": {},
   "outputs": [
    {
     "name": "stdout",
     "output_type": "stream",
     "text": [
      "\n",
      "Total number of such employees with more than 10 years experience: 0\n"
     ]
    }
   ],
   "source": [
    "df_cleaned = df_cleaned.copy()\n",
    "df_cleaned['Years_Experience'] = (Timestamp.now() - df_cleaned['Join_Date']).dt.days / 365\n",
    "experienced_employees = df_cleaned[df_cleaned['Years_Experience'] > 10]\n",
    "print(\"\\nTotal number of such employees with more than 10 years experience:\", len(experienced_employees))"
   ]
  },
  {
   "cell_type": "markdown",
   "id": "6b285620-c589-4eb1-bd5f-b318281b1805",
   "metadata": {},
   "source": [
    "# Select employees who are female (Gender='Female') and work in the 'HR' department. "
   ]
  },
  {
   "cell_type": "markdown",
   "id": "445388ef-058a-4d35-8b0f-5141430b32e0",
   "metadata": {},
   "source": [
    "No gender column availabe"
   ]
  },
  {
   "cell_type": "markdown",
   "id": "d670134d-9b20-48d7-830c-961a4bcef707",
   "metadata": {},
   "source": [
    "# 4. Aggregation "
   ]
  },
  {
   "cell_type": "markdown",
   "id": "38589e89-b867-456b-9f1c-77cbb10cfca5",
   "metadata": {},
   "source": [
    "# Calculate the average 'Salary' for each 'Department'. Which department has the highest average salary? "
   ]
  },
  {
   "cell_type": "code",
   "execution_count": 244,
   "id": "b20221ed-da07-44dd-8d68-006d48a99f88",
   "metadata": {},
   "outputs": [
    {
     "name": "stdout",
     "output_type": "stream",
     "text": [
      "Average Salary by Department:\n",
      "\n",
      "Department\n",
      "Finance    57647.058824\n",
      "HR         57272.727273\n",
      "IT         56578.947368\n",
      "Sales      55000.000000\n",
      "Name: Salary, dtype: float64\n",
      "\n",
      "Department with the highest average salary: Finance ($57647.06)\n"
     ]
    }
   ],
   "source": [
    "avg_salary_by_dept = df.groupby('Department')['Salary'].mean().sort_values(ascending=False)\n",
    "print(\"Average Salary by Department:\\n\")\n",
    "print(avg_salary_by_dept)\n",
    "highest_paid_dept = avg_salary_by_dept.idxmax()\n",
    "highest_avg_salary = avg_salary_by_dept.max()\n",
    "print(f\"\\nDepartment with the highest average salary: {highest_paid_dept} (${highest_avg_salary:.2f})\")"
   ]
  },
  {
   "cell_type": "markdown",
   "id": "a98ae3d8-2eba-49ac-a5a2-e81c0e4a3164",
   "metadata": {},
   "source": [
    "# Calculate the median 'Years_Experience' per 'Job_Role'. "
   ]
  },
  {
   "cell_type": "code",
   "execution_count": 245,
   "id": "fe1a46f0-6841-4fa8-9fa2-3821f4cf1692",
   "metadata": {},
   "outputs": [
    {
     "name": "stdout",
     "output_type": "stream",
     "text": [
      "Median Years of Experience by Department:\n",
      "\n",
      "Department\n",
      "Finance    3.372603\n",
      "Sales      2.201370\n",
      "It         2.049315\n",
      "Hr         1.280822\n",
      "Name: Years_Experience, dtype: float64\n"
     ]
    }
   ],
   "source": [
    "median_exp = df_cleaned.groupby('Department')['Years_Experience'].median().sort_values(ascending=False)\n",
    "print(\"Median Years of Experience by Department:\\n\")\n",
    "print(median_exp)"
   ]
  },
  {
   "cell_type": "markdown",
   "id": "963cf45f-307e-4276-9fd2-21ff6c876dd1",
   "metadata": {},
   "source": [
    "# Determine the total number of male and female employees. "
   ]
  },
  {
   "cell_type": "markdown",
   "id": "52309571-484e-4173-90d7-654c56cf8aeb",
   "metadata": {},
   "source": [
    "No gender column provided"
   ]
  },
  {
   "cell_type": "markdown",
   "id": "5cb04eb7-24b5-4bb2-9d25-0f5f5b3b2def",
   "metadata": {},
   "source": [
    "# 5. Grouping and Summarizing"
   ]
  },
  {
   "cell_type": "markdown",
   "id": "63c4df17-cd04-4ed8-b2d8-3155ce3414db",
   "metadata": {},
   "source": [
    "# Group the DataFrame by 'Department' and 'Gender'. Calculate the average 'Salary' for each gender within each department. What interesting patterns do you observe? "
   ]
  },
  {
   "cell_type": "markdown",
   "id": "23a12540-a950-4c14-9d86-422616341153",
   "metadata": {},
   "source": [
    "No gender column provided"
   ]
  },
  {
   "cell_type": "markdown",
   "id": "0bc765fe-bec8-45e9-ac21-3dbae787713a",
   "metadata": {},
   "source": [
    "# 6. Creating New Features"
   ]
  },
  {
   "cell_type": "markdown",
   "id": "0a7c772c-be67-46c4-a2f2-49885d529811",
   "metadata": {},
   "source": [
    "# If the dataset had a 'Hire_Date' and current date, you could create a 'Tenure' column. Since it doesn't, consider creating a 'Salary_Per_Year_Experience' column. What does this new column represent, and what does its average value tell you? "
   ]
  },
  {
   "cell_type": "code",
   "execution_count": 246,
   "id": "dc2423b6-b811-4cb5-84a0-b34090fd8c6e",
   "metadata": {},
   "outputs": [
    {
     "data": {
      "text/html": [
       "<div>\n",
       "<style scoped>\n",
       "    .dataframe tbody tr th:only-of-type {\n",
       "        vertical-align: middle;\n",
       "    }\n",
       "\n",
       "    .dataframe tbody tr th {\n",
       "        vertical-align: top;\n",
       "    }\n",
       "\n",
       "    .dataframe thead th {\n",
       "        text-align: right;\n",
       "    }\n",
       "</style>\n",
       "<table border=\"1\" class=\"dataframe\">\n",
       "  <thead>\n",
       "    <tr style=\"text-align: right;\">\n",
       "      <th></th>\n",
       "      <th>Name</th>\n",
       "      <th>Salary</th>\n",
       "      <th>Years_Experience</th>\n",
       "      <th>Salary_per_yearexp</th>\n",
       "    </tr>\n",
       "  </thead>\n",
       "  <tbody>\n",
       "    <tr>\n",
       "      <th>0</th>\n",
       "      <td>Unknown</td>\n",
       "      <td>65000.0</td>\n",
       "      <td>2.084932</td>\n",
       "      <td>31176.084100</td>\n",
       "    </tr>\n",
       "    <tr>\n",
       "      <th>1</th>\n",
       "      <td>James Chavez</td>\n",
       "      <td>55000.0</td>\n",
       "      <td>1.460274</td>\n",
       "      <td>37664.165103</td>\n",
       "    </tr>\n",
       "    <tr>\n",
       "      <th>2</th>\n",
       "      <td>Shane Williams</td>\n",
       "      <td>50000.0</td>\n",
       "      <td>0.482192</td>\n",
       "      <td>103693.181818</td>\n",
       "    </tr>\n",
       "    <tr>\n",
       "      <th>3</th>\n",
       "      <td>Mr. Joseph Lewis</td>\n",
       "      <td>55000.0</td>\n",
       "      <td>1.747945</td>\n",
       "      <td>31465.517241</td>\n",
       "    </tr>\n",
       "    <tr>\n",
       "      <th>4</th>\n",
       "      <td>Dr. Eric Weiss</td>\n",
       "      <td>60000.0</td>\n",
       "      <td>3.632877</td>\n",
       "      <td>16515.837104</td>\n",
       "    </tr>\n",
       "    <tr>\n",
       "      <th>...</th>\n",
       "      <td>...</td>\n",
       "      <td>...</td>\n",
       "      <td>...</td>\n",
       "      <td>...</td>\n",
       "    </tr>\n",
       "    <tr>\n",
       "      <th>95</th>\n",
       "      <td>Sharon Crawford</td>\n",
       "      <td>55000.0</td>\n",
       "      <td>0.150685</td>\n",
       "      <td>365000.000000</td>\n",
       "    </tr>\n",
       "    <tr>\n",
       "      <th>96</th>\n",
       "      <td>Joseph Lopez Phd</td>\n",
       "      <td>55000.0</td>\n",
       "      <td>3.561644</td>\n",
       "      <td>15442.307692</td>\n",
       "    </tr>\n",
       "    <tr>\n",
       "      <th>97</th>\n",
       "      <td>Jason Yang</td>\n",
       "      <td>55000.0</td>\n",
       "      <td>3.920548</td>\n",
       "      <td>14028.651293</td>\n",
       "    </tr>\n",
       "    <tr>\n",
       "      <th>98</th>\n",
       "      <td>Vanessa Clark</td>\n",
       "      <td>65000.0</td>\n",
       "      <td>2.082192</td>\n",
       "      <td>31217.105263</td>\n",
       "    </tr>\n",
       "    <tr>\n",
       "      <th>99</th>\n",
       "      <td>Craig Blair</td>\n",
       "      <td>65000.0</td>\n",
       "      <td>4.797260</td>\n",
       "      <td>13549.400343</td>\n",
       "    </tr>\n",
       "  </tbody>\n",
       "</table>\n",
       "<p>100 rows × 4 columns</p>\n",
       "</div>"
      ],
      "text/plain": [
       "                Name   Salary  Years_Experience  Salary_per_yearexp\n",
       "0            Unknown  65000.0          2.084932        31176.084100\n",
       "1       James Chavez  55000.0          1.460274        37664.165103\n",
       "2     Shane Williams  50000.0          0.482192       103693.181818\n",
       "3   Mr. Joseph Lewis  55000.0          1.747945        31465.517241\n",
       "4     Dr. Eric Weiss  60000.0          3.632877        16515.837104\n",
       "..               ...      ...               ...                 ...\n",
       "95   Sharon Crawford  55000.0          0.150685       365000.000000\n",
       "96  Joseph Lopez Phd  55000.0          3.561644        15442.307692\n",
       "97        Jason Yang  55000.0          3.920548        14028.651293\n",
       "98     Vanessa Clark  65000.0          2.082192        31217.105263\n",
       "99       Craig Blair  65000.0          4.797260        13549.400343\n",
       "\n",
       "[100 rows x 4 columns]"
      ]
     },
     "metadata": {},
     "output_type": "display_data"
    },
    {
     "name": "stdout",
     "output_type": "stream",
     "text": [
      "\n",
      "Average Salary per Year of Experience:  55174.30479065408\n"
     ]
    }
   ],
   "source": [
    "df_cleaned['Salary_per_yearexp'] = df_cleaned['Salary'] / df_cleaned['Years_Experience'].replace(0, 1)\n",
    "display(df_cleaned[['Name', 'Salary', 'Years_Experience', 'Salary_per_yearexp']])\n",
    "print(\"\\nAverage Salary per Year of Experience: \",df_cleaned['Salary_per_yearexp'].mean())"
   ]
  },
  {
   "cell_type": "markdown",
   "id": "a0541169-d3d4-4293-b4fb-fb2e2a830c21",
   "metadata": {},
   "source": [
    "# Scenario 6: Data Visualization Insights "
   ]
  },
  {
   "cell_type": "markdown",
   "id": "7a63eb68-5be7-4194-87a7-a04e08852e8e",
   "metadata": {},
   "source": [
    "# 1. Department Distribution"
   ]
  },
  {
   "cell_type": "markdown",
   "id": "840da840-9c18-4112-a369-dd5c9915424b",
   "metadata": {},
   "source": [
    "# What type of plot would be best to visualize the distribution of employees across different 'Department's? What would it show? "
   ]
  },
  {
   "cell_type": "markdown",
   "id": "2f49e13b-54fb-4623-b66f-0abe6a3becc1",
   "metadata": {},
   "source": [
    "A bar plot is ideal for visualizing categorical data like departments, as it shows employee counts clearly. It helps quickly compare which departments have more or fewer employees."
   ]
  },
  {
   "cell_type": "code",
   "execution_count": 247,
   "id": "9cbbec26-00ee-4da2-b2b5-a0da03c1bc4e",
   "metadata": {},
   "outputs": [],
   "source": [
    "import matplotlib.pyplot as plt"
   ]
  },
  {
   "cell_type": "code",
   "execution_count": 248,
   "id": "11dd3aef-68ca-4283-af1f-7c3571cace14",
   "metadata": {},
   "outputs": [
    {
     "data": {
      "image/png": "[encoded data removed]",
      "text/plain": [
       "<Figure size 640x480 with 1 Axes>"
      ]
     },
     "metadata": {},
     "output_type": "display_data"
    }
   ],
   "source": [
    "df_cleaned['Department'].value_counts().plot(kind='bar', color='skyblue')\n",
    "plt.title('Employee Count by Department')\n",
    "plt.xlabel('Department')\n",
    "plt.ylabel('Number of Employees')\n",
    "plt.xticks(rotation=45)\n",
    "plt.tight_layout()\n",
    "plt.show()"
   ]
  },
  {
   "cell_type": "markdown",
   "id": "b8f309a1-84cb-41b4-bd6b-c647d2eaef6e",
   "metadata": {},
   "source": [
    "# 2. Salary Distribution"
   ]
  },
  {
   "cell_type": "markdown",
   "id": "0df67c5f-0ea4-4987-a3e0-a2605dfaa6c2",
   "metadata": {},
   "source": [
    "# How would you visualize the distribution of 'Salary'? What insights might a histogram or box plot provide? "
   ]
  },
  {
   "cell_type": "markdown",
   "id": "0e578c1a-9688-4015-9c1e-faf24fafa048",
   "metadata": {},
   "source": [
    "To visualize the distribution of Salary, a histogram or a box plot would be most effective. A histogram helps show how salaries are spread across different ranges, revealing patterns such as clustering or skewness in the data. On the other hand, a box plot provides a summary of salary distribution through the median, quartiles, and potential outliers, making it easy to spot unusually high or low salaries. Together, these plots offer insights into the overall salary structure, variability, and fairness within the organization."
   ]
  },
  {
   "cell_type": "code",
   "execution_count": 250,
   "id": "56352bc9-1278-4dfa-8ae2-ef0b26cae2ff",
   "metadata": {},
   "outputs": [
    {
     "ename": "NameError",
     "evalue": "name 'sns' is not defined",
     "output_type": "error",
     "traceback": [
      "\u001b[1;31m---------------------------------------------------------------------------\u001b[0m",
      "\u001b[1;31mNameError\u001b[0m                                 Traceback (most recent call last)",
      "Cell \u001b[1;32mIn[250], line 12\u001b[0m\n\u001b[0;32m     10\u001b[0m \u001b[38;5;66;03m# Box Plot\u001b[39;00m\n\u001b[0;32m     11\u001b[0m plt\u001b[38;5;241m.\u001b[39mfigure(figsize\u001b[38;5;241m=\u001b[39m(\u001b[38;5;241m6\u001b[39m, \u001b[38;5;241m4\u001b[39m))\n\u001b[1;32m---> 12\u001b[0m sns\u001b[38;5;241m.\u001b[39mboxplot(data\u001b[38;5;241m=\u001b[39mdf, x\u001b[38;5;241m=\u001b[39m\u001b[38;5;124m'\u001b[39m\u001b[38;5;124mDepartment\u001b[39m\u001b[38;5;124m'\u001b[39m, y\u001b[38;5;241m=\u001b[39m\u001b[38;5;124m'\u001b[39m\u001b[38;5;124mSalary\u001b[39m\u001b[38;5;124m'\u001b[39m)\n\u001b[0;32m     13\u001b[0m plt\u001b[38;5;241m.\u001b[39mtitle(\u001b[38;5;124m'\u001b[39m\u001b[38;5;124mSalary Distribution by Department\u001b[39m\u001b[38;5;124m'\u001b[39m)\n\u001b[0;32m     14\u001b[0m plt\u001b[38;5;241m.\u001b[39mshow()\n",
      "\u001b[1;31mNameError\u001b[0m: name 'sns' is not defined"
     ]
    },
    {
     "data": {
      "image/png": "[encoded data removed]",
      "text/plain": [
       "<Figure size 1000x400 with 1 Axes>"
      ]
     },
     "metadata": {},
     "output_type": "display_data"
    },
    {
     "data": {
      "text/plain": [
       "<Figure size 600x400 with 0 Axes>"
      ]
     },
     "metadata": {},
     "output_type": "display_data"
    }
   ],
   "source": [
    "plt.figure(figsize=(10, 4))\n",
    "\n",
    "# Histogram\n",
    "plt.subplot(1, 2, 1)\n",
    "df['Salary'].dropna().plot(kind='hist', bins=10, color='lightgreen', edgecolor='black')\n",
    "plt.title('Salary Histogram')\n",
    "plt.xlabel('Salary')\n",
    "plt.ylabel('Frequency')\n",
    "\n",
    "# Box Plot\n",
    "plt.figure(figsize=(6, 4))\n",
    "sns.boxplot(data=df, x='Department', y='Salary')\n",
    "plt.title('Salary Distribution by Department')\n",
    "plt.show()\n",
    "\n",
    "plt.tight_layout()\n",
    "plt.show()"
   ]
  },
  {
   "cell_type": "markdown",
   "id": "b6359cb9-4bfa-4d38-a7a4-d51db4486a9f",
   "metadata": {},
   "source": [
    "# 3. Salary vs. Experience"
   ]
  },
  {
   "cell_type": "markdown",
   "id": "cfdf6610-e6bb-4229-8513-343e0803d68e",
   "metadata": {},
   "source": [
    "# What kind of plot would you use to explore the relationship between 'Salary' and 'Years_Experience'? What would you expect to see? "
   ]
  },
  {
   "cell_type": "markdown",
   "id": "387ab55e-5d6c-4f08-8585-378bfbdefe02",
   "metadata": {},
   "source": [
    "To explore the relationship between Salary and Years_Experience, a scatter plot is ideal. It displays individual data points, helping visualize patterns or trends. You’d expect to see a positive correlation, where salary tends to increase with more experience, though there may be some outliers or plateaus at certain levels."
   ]
  },
  {
   "cell_type": "markdown",
   "id": "cbe49412-6b95-4f41-b74d-19f99e84023d",
   "metadata": {},
   "source": [
    "# 4. Gender vs. Department"
   ]
  },
  {
   "cell_type": "markdown",
   "id": "0395e1de-23f2-4909-baa2-fce2b7ad31ec",
   "metadata": {},
   "source": [
    "# How could you visualize the proportion of genders within each department? "
   ]
  },
  {
   "cell_type": "markdown",
   "id": "10f46105-078d-4166-85dd-04fe3a9bab22",
   "metadata": {},
   "source": [
    "No gender column provided"
   ]
  }
 ],
 "metadata": {
  "kernelspec": {
   "display_name": "Python [conda env:base] *",
   "language": "python",
   "name": "conda-base-py"
  },
  "language_info": {
   "codemirror_mode": {
    "name": "ipython",
    "version": 3
   },
   "file_extension": ".py",
   "mimetype": "text/x-python",
   "name": "python",
   "nbconvert_exporter": "python",
   "pygments_lexer": "ipython3",
   "version": "3.13.5"
  }
 },
 "nbformat": 4,
 "nbformat_minor": 5
}
