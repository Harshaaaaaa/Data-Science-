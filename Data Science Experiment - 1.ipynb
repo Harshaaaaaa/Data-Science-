{
 "cells": [
  {
   "cell_type": "code",
   "execution_count": 2,
   "id": "d74ebc34-d5e0-4100-8857-9b19a75541cf",
   "metadata": {},
   "outputs": [],
   "source": [
    "# HARSHA - CH.SC.U4CSE23020\n",
    "import pandas as pd"
   ]
  },
  {
   "cell_type": "code",
   "execution_count": 3,
   "id": "0a58ebd3-cd5a-4917-bb51-a2b299ab64d1",
   "metadata": {},
   "outputs": [
    {
     "data": {
      "text/html": [
       "<div>\n",
       "<style scoped>\n",
       "    .dataframe tbody tr th:only-of-type {\n",
       "        vertical-align: middle;\n",
       "    }\n",
       "\n",
       "    .dataframe tbody tr th {\n",
       "        vertical-align: top;\n",
       "    }\n",
       "\n",
       "    .dataframe thead th {\n",
       "        text-align: right;\n",
       "    }\n",
       "</style>\n",
       "<table border=\"1\" class=\"dataframe\">\n",
       "  <thead>\n",
       "    <tr style=\"text-align: right;\">\n",
       "      <th></th>\n",
       "      <th>Date</th>\n",
       "      <th>Order ID</th>\n",
       "      <th>Customer</th>\n",
       "      <th>Product</th>\n",
       "      <th>Quantity</th>\n",
       "      <th>Unit Price</th>\n",
       "      <th>Total Sales</th>\n",
       "      <th>Country</th>\n",
       "    </tr>\n",
       "  </thead>\n",
       "  <tbody>\n",
       "    <tr>\n",
       "      <th>0</th>\n",
       "      <td>2025-06-01</td>\n",
       "      <td>1001</td>\n",
       "      <td>Alice Smith</td>\n",
       "      <td>Laptop</td>\n",
       "      <td>2</td>\n",
       "      <td>800</td>\n",
       "      <td>1600</td>\n",
       "      <td>USA</td>\n",
       "    </tr>\n",
       "    <tr>\n",
       "      <th>1</th>\n",
       "      <td>2025-06-01</td>\n",
       "      <td>1002</td>\n",
       "      <td>Bob Jones</td>\n",
       "      <td>Smartphone</td>\n",
       "      <td>3</td>\n",
       "      <td>500</td>\n",
       "      <td>1500</td>\n",
       "      <td>UK</td>\n",
       "    </tr>\n",
       "    <tr>\n",
       "      <th>2</th>\n",
       "      <td>2025-06-02</td>\n",
       "      <td>1003</td>\n",
       "      <td>Carol Lee</td>\n",
       "      <td>Headphones</td>\n",
       "      <td>5</td>\n",
       "      <td>50</td>\n",
       "      <td>250</td>\n",
       "      <td>India</td>\n",
       "    </tr>\n",
       "    <tr>\n",
       "      <th>3</th>\n",
       "      <td>2025-06-02</td>\n",
       "      <td>1004</td>\n",
       "      <td>David Kim</td>\n",
       "      <td>Monitor</td>\n",
       "      <td>1</td>\n",
       "      <td>200</td>\n",
       "      <td>200</td>\n",
       "      <td>Deoutchland</td>\n",
       "    </tr>\n",
       "    <tr>\n",
       "      <th>4</th>\n",
       "      <td>2025-06-03</td>\n",
       "      <td>1005</td>\n",
       "      <td>Eva Brown</td>\n",
       "      <td>Keyboard</td>\n",
       "      <td>4</td>\n",
       "      <td>30</td>\n",
       "      <td>120</td>\n",
       "      <td>Australia</td>\n",
       "    </tr>\n",
       "  </tbody>\n",
       "</table>\n",
       "</div>"
      ],
      "text/plain": [
       "         Date  Order ID     Customer     Product  Quantity  Unit Price  \\\n",
       "0  2025-06-01      1001  Alice Smith      Laptop         2         800   \n",
       "1  2025-06-01      1002    Bob Jones  Smartphone         3         500   \n",
       "2  2025-06-02      1003    Carol Lee  Headphones         5          50   \n",
       "3  2025-06-02      1004    David Kim     Monitor         1         200   \n",
       "4  2025-06-03      1005    Eva Brown    Keyboard         4          30   \n",
       "\n",
       "   Total Sales      Country  \n",
       "0         1600          USA  \n",
       "1         1500           UK  \n",
       "2          250        India  \n",
       "3          200  Deoutchland  \n",
       "4          120    Australia  "
      ]
     },
     "execution_count": 3,
     "metadata": {},
     "output_type": "execute_result"
    }
   ],
   "source": [
    "df = pd.read_csv(\"SalesAnalysis.csv\")\n",
    "df.head()"
   ]
  },
  {
   "cell_type": "markdown",
   "id": "e0611ba6-e97a-44f2-8819-2ed870f4c9a0",
   "metadata": {},
   "source": [
    "Question - 1"
   ]
  },
  {
   "cell_type": "code",
   "execution_count": 4,
   "id": "6163445c-55e1-4b94-869d-0ee7807f0c19",
   "metadata": {},
   "outputs": [
    {
     "name": "stdout",
     "output_type": "stream",
     "text": [
      "<class 'pandas.core.frame.DataFrame'>\n",
      "RangeIndex: 100 entries, 0 to 99\n",
      "Data columns (total 8 columns):\n",
      " #   Column       Non-Null Count  Dtype \n",
      "---  ------       --------------  ----- \n",
      " 0   Date         100 non-null    object\n",
      " 1   Order ID     100 non-null    int64 \n",
      " 2   Customer     100 non-null    object\n",
      " 3   Product      100 non-null    object\n",
      " 4   Quantity     100 non-null    int64 \n",
      " 5   Unit Price   100 non-null    int64 \n",
      " 6   Total Sales  100 non-null    int64 \n",
      " 7   Country      100 non-null    object\n",
      "dtypes: int64(4), object(4)\n",
      "memory usage: 6.4+ KB\n"
     ]
    }
   ],
   "source": [
    "df.info()"
   ]
  },
  {
   "cell_type": "code",
   "execution_count": 5,
   "id": "a60cff24-a1cc-42be-a6ac-fb79f4c485aa",
   "metadata": {},
   "outputs": [
    {
     "data": {
      "text/html": [
       "<div>\n",
       "<style scoped>\n",
       "    .dataframe tbody tr th:only-of-type {\n",
       "        vertical-align: middle;\n",
       "    }\n",
       "\n",
       "    .dataframe tbody tr th {\n",
       "        vertical-align: top;\n",
       "    }\n",
       "\n",
       "    .dataframe thead th {\n",
       "        text-align: right;\n",
       "    }\n",
       "</style>\n",
       "<table border=\"1\" class=\"dataframe\">\n",
       "  <thead>\n",
       "    <tr style=\"text-align: right;\">\n",
       "      <th></th>\n",
       "      <th>Order ID</th>\n",
       "      <th>Quantity</th>\n",
       "      <th>Unit Price</th>\n",
       "      <th>Total Sales</th>\n",
       "    </tr>\n",
       "  </thead>\n",
       "  <tbody>\n",
       "    <tr>\n",
       "      <th>count</th>\n",
       "      <td>100.000000</td>\n",
       "      <td>100.000000</td>\n",
       "      <td>100.000000</td>\n",
       "      <td>100.000000</td>\n",
       "    </tr>\n",
       "    <tr>\n",
       "      <th>mean</th>\n",
       "      <td>1050.500000</td>\n",
       "      <td>2.240000</td>\n",
       "      <td>262.800000</td>\n",
       "      <td>453.600000</td>\n",
       "    </tr>\n",
       "    <tr>\n",
       "      <th>std</th>\n",
       "      <td>29.011492</td>\n",
       "      <td>1.190196</td>\n",
       "      <td>245.077106</td>\n",
       "      <td>416.737012</td>\n",
       "    </tr>\n",
       "    <tr>\n",
       "      <th>min</th>\n",
       "      <td>1001.000000</td>\n",
       "      <td>1.000000</td>\n",
       "      <td>20.000000</td>\n",
       "      <td>60.000000</td>\n",
       "    </tr>\n",
       "    <tr>\n",
       "      <th>25%</th>\n",
       "      <td>1025.750000</td>\n",
       "      <td>1.000000</td>\n",
       "      <td>50.000000</td>\n",
       "      <td>120.000000</td>\n",
       "    </tr>\n",
       "    <tr>\n",
       "      <th>50%</th>\n",
       "      <td>1050.500000</td>\n",
       "      <td>2.000000</td>\n",
       "      <td>200.000000</td>\n",
       "      <td>300.000000</td>\n",
       "    </tr>\n",
       "    <tr>\n",
       "      <th>75%</th>\n",
       "      <td>1075.250000</td>\n",
       "      <td>3.000000</td>\n",
       "      <td>400.000000</td>\n",
       "      <td>800.000000</td>\n",
       "    </tr>\n",
       "    <tr>\n",
       "      <th>max</th>\n",
       "      <td>1100.000000</td>\n",
       "      <td>6.000000</td>\n",
       "      <td>800.000000</td>\n",
       "      <td>1600.000000</td>\n",
       "    </tr>\n",
       "  </tbody>\n",
       "</table>\n",
       "</div>"
      ],
      "text/plain": [
       "          Order ID    Quantity  Unit Price  Total Sales\n",
       "count   100.000000  100.000000  100.000000   100.000000\n",
       "mean   1050.500000    2.240000  262.800000   453.600000\n",
       "std      29.011492    1.190196  245.077106   416.737012\n",
       "min    1001.000000    1.000000   20.000000    60.000000\n",
       "25%    1025.750000    1.000000   50.000000   120.000000\n",
       "50%    1050.500000    2.000000  200.000000   300.000000\n",
       "75%    1075.250000    3.000000  400.000000   800.000000\n",
       "max    1100.000000    6.000000  800.000000  1600.000000"
      ]
     },
     "execution_count": 5,
     "metadata": {},
     "output_type": "execute_result"
    }
   ],
   "source": [
    "df.describe()"
   ]
  },
  {
   "cell_type": "markdown",
   "id": "91b8c04c-ec6c-4c9e-9905-a060ae643d6e",
   "metadata": {},
   "source": [
    "Question - 2"
   ]
  },
  {
   "cell_type": "code",
   "execution_count": 6,
   "id": "a070f6e5-065e-41d2-89dc-79051ec3ff06",
   "metadata": {},
   "outputs": [
    {
     "name": "stdout",
     "output_type": "stream",
     "text": [
      "Count =  <bound method Series.count of 0     800\n",
      "1     500\n",
      "2      50\n",
      "3     200\n",
      "4      30\n",
      "     ... \n",
      "95    500\n",
      "96     50\n",
      "97    200\n",
      "98     30\n",
      "99     20\n",
      "Name: Unit Price, Length: 100, dtype: int64>\n"
     ]
    }
   ],
   "source": [
    "print('Count = ',df['Unit Price'].count)"
   ]
  },
  {
   "cell_type": "code",
   "execution_count": 7,
   "id": "1e04ab18-aa17-43bc-bf02-0ada7259c769",
   "metadata": {},
   "outputs": [
    {
     "name": "stdout",
     "output_type": "stream",
     "text": [
      "Mean =  262.8\n"
     ]
    }
   ],
   "source": [
    "print(\"Mean = \", df[\"Unit Price\"].mean())"
   ]
  },
  {
   "cell_type": "code",
   "execution_count": 8,
   "id": "1ec889c6-be99-47c1-9d4c-79af2e7c19a0",
   "metadata": {},
   "outputs": [
    {
     "name": "stdout",
     "output_type": "stream",
     "text": [
      "Minimum =  20\n"
     ]
    }
   ],
   "source": [
    "print(\"Minimum = \",df['Unit Price'].min())"
   ]
  },
  {
   "cell_type": "code",
   "execution_count": 31,
   "id": "f2e6d74b-494c-49c0-82fd-3b298976248d",
   "metadata": {},
   "outputs": [
    {
     "name": "stdout",
     "output_type": "stream",
     "text": [
      "Minimum =  20.0\n"
     ]
    }
   ],
   "source": [
    "print(\"Minimum = \",df['Unit Price'].quantile(0))"
   ]
  },
  {
   "cell_type": "code",
   "execution_count": 14,
   "id": "06ec5dc9-4c6c-4f78-9745-2cd57f5f573b",
   "metadata": {},
   "outputs": [
    {
     "name": "stdout",
     "output_type": "stream",
     "text": [
      "Mean Absolute Deviation = 201.75999999999996\n"
     ]
    }
   ],
   "source": [
    "mean_value = df['Unit Price'].mean()\n",
    "deviation = df['Unit Price'] - mean_value\n",
    "mad = deviation.abs().mean()\n",
    "print(\"Mean Absolute Deviation =\", mad)"
   ]
  },
  {
   "cell_type": "code",
   "execution_count": 30,
   "id": "0d7034f2-ec4f-453b-ad3b-9f031096ec9c",
   "metadata": {},
   "outputs": [
    {
     "name": "stdout",
     "output_type": "stream",
     "text": [
      "Percentile =  800.0\n"
     ]
    }
   ],
   "source": [
    "print('Percentile = ', df['Unit Price'].quantile(1.0))"
   ]
  },
  {
   "cell_type": "markdown",
   "id": "6491d17d-10e0-4eb3-b4fd-b341b58df310",
   "metadata": {},
   "source": [
    "Question - 3 "
   ]
  },
  {
   "cell_type": "code",
   "execution_count": 15,
   "id": "0f1317aa-ff43-4981-bcb1-b9bb429632ca",
   "metadata": {},
   "outputs": [
    {
     "data": {
      "text/plain": [
       "Date           object\n",
       "Order ID        int64\n",
       "Customer       object\n",
       "Product        object\n",
       "Quantity        int64\n",
       "Unit Price      int64\n",
       "Total Sales     int64\n",
       "Country        object\n",
       "dtype: object"
      ]
     },
     "execution_count": 15,
     "metadata": {},
     "output_type": "execute_result"
    }
   ],
   "source": [
    "df.dtypes"
   ]
  },
  {
   "cell_type": "markdown",
   "id": "fce6aadc-3286-43e0-9b2b-7ec00828c799",
   "metadata": {},
   "source": [
    "Question - 4"
   ]
  },
  {
   "cell_type": "code",
   "execution_count": 16,
   "id": "36623821-78f8-418e-83aa-2020de19b14d",
   "metadata": {},
   "outputs": [
    {
     "data": {
      "text/html": [
       "<div>\n",
       "<style scoped>\n",
       "    .dataframe tbody tr th:only-of-type {\n",
       "        vertical-align: middle;\n",
       "    }\n",
       "\n",
       "    .dataframe tbody tr th {\n",
       "        vertical-align: top;\n",
       "    }\n",
       "\n",
       "    .dataframe thead th {\n",
       "        text-align: right;\n",
       "    }\n",
       "</style>\n",
       "<table border=\"1\" class=\"dataframe\">\n",
       "  <thead>\n",
       "    <tr style=\"text-align: right;\">\n",
       "      <th></th>\n",
       "      <th>Date</th>\n",
       "      <th>Order ID</th>\n",
       "      <th>Customer</th>\n",
       "      <th>Product</th>\n",
       "      <th>Quantity</th>\n",
       "      <th>Unit Price</th>\n",
       "      <th>Total Sales</th>\n",
       "      <th>Country</th>\n",
       "    </tr>\n",
       "  </thead>\n",
       "  <tbody>\n",
       "    <tr>\n",
       "      <th>0</th>\n",
       "      <td>2025-06-01</td>\n",
       "      <td>1001</td>\n",
       "      <td>Alice Smith</td>\n",
       "      <td>Laptop</td>\n",
       "      <td>2</td>\n",
       "      <td>800</td>\n",
       "      <td>1600</td>\n",
       "      <td>USA</td>\n",
       "    </tr>\n",
       "    <tr>\n",
       "      <th>1</th>\n",
       "      <td>2025-06-01</td>\n",
       "      <td>1002</td>\n",
       "      <td>Bob Jones</td>\n",
       "      <td>Smartphone</td>\n",
       "      <td>3</td>\n",
       "      <td>500</td>\n",
       "      <td>1500</td>\n",
       "      <td>UK</td>\n",
       "    </tr>\n",
       "    <tr>\n",
       "      <th>2</th>\n",
       "      <td>2025-06-02</td>\n",
       "      <td>1003</td>\n",
       "      <td>Carol Lee</td>\n",
       "      <td>Headphones</td>\n",
       "      <td>5</td>\n",
       "      <td>50</td>\n",
       "      <td>250</td>\n",
       "      <td>India</td>\n",
       "    </tr>\n",
       "    <tr>\n",
       "      <th>3</th>\n",
       "      <td>2025-06-02</td>\n",
       "      <td>1004</td>\n",
       "      <td>David Kim</td>\n",
       "      <td>Monitor</td>\n",
       "      <td>1</td>\n",
       "      <td>200</td>\n",
       "      <td>200</td>\n",
       "      <td>Deoutchland</td>\n",
       "    </tr>\n",
       "    <tr>\n",
       "      <th>4</th>\n",
       "      <td>2025-06-03</td>\n",
       "      <td>1005</td>\n",
       "      <td>Eva Brown</td>\n",
       "      <td>Keyboard</td>\n",
       "      <td>4</td>\n",
       "      <td>30</td>\n",
       "      <td>120</td>\n",
       "      <td>Australia</td>\n",
       "    </tr>\n",
       "  </tbody>\n",
       "</table>\n",
       "</div>"
      ],
      "text/plain": [
       "         Date  Order ID     Customer     Product  Quantity  Unit Price  \\\n",
       "0  2025-06-01      1001  Alice Smith      Laptop         2         800   \n",
       "1  2025-06-01      1002    Bob Jones  Smartphone         3         500   \n",
       "2  2025-06-02      1003    Carol Lee  Headphones         5          50   \n",
       "3  2025-06-02      1004    David Kim     Monitor         1         200   \n",
       "4  2025-06-03      1005    Eva Brown    Keyboard         4          30   \n",
       "\n",
       "   Total Sales      Country  \n",
       "0         1600          USA  \n",
       "1         1500           UK  \n",
       "2          250        India  \n",
       "3          200  Deoutchland  \n",
       "4          120    Australia  "
      ]
     },
     "execution_count": 16,
     "metadata": {},
     "output_type": "execute_result"
    }
   ],
   "source": [
    "df.head()"
   ]
  },
  {
   "cell_type": "code",
   "execution_count": 17,
   "id": "9df55f44-d3f5-47c4-9345-a9b088dd2934",
   "metadata": {},
   "outputs": [
    {
     "data": {
      "text/html": [
       "<div>\n",
       "<style scoped>\n",
       "    .dataframe tbody tr th:only-of-type {\n",
       "        vertical-align: middle;\n",
       "    }\n",
       "\n",
       "    .dataframe tbody tr th {\n",
       "        vertical-align: top;\n",
       "    }\n",
       "\n",
       "    .dataframe thead th {\n",
       "        text-align: right;\n",
       "    }\n",
       "</style>\n",
       "<table border=\"1\" class=\"dataframe\">\n",
       "  <thead>\n",
       "    <tr style=\"text-align: right;\">\n",
       "      <th></th>\n",
       "      <th>Date</th>\n",
       "      <th>Order ID</th>\n",
       "      <th>Customer</th>\n",
       "      <th>Product</th>\n",
       "      <th>Quantity</th>\n",
       "      <th>Unit Price</th>\n",
       "      <th>Total Sales</th>\n",
       "      <th>Country</th>\n",
       "    </tr>\n",
       "  </thead>\n",
       "  <tbody>\n",
       "    <tr>\n",
       "      <th>95</th>\n",
       "      <td>2025-06-24</td>\n",
       "      <td>1096</td>\n",
       "      <td>Ria Liu</td>\n",
       "      <td>Smartphone</td>\n",
       "      <td>2</td>\n",
       "      <td>500</td>\n",
       "      <td>1000</td>\n",
       "      <td>Canada</td>\n",
       "    </tr>\n",
       "    <tr>\n",
       "      <th>96</th>\n",
       "      <td>2025-06-24</td>\n",
       "      <td>1097</td>\n",
       "      <td>Sam Bell</td>\n",
       "      <td>Headphones</td>\n",
       "      <td>2</td>\n",
       "      <td>50</td>\n",
       "      <td>100</td>\n",
       "      <td>Brazil</td>\n",
       "    </tr>\n",
       "    <tr>\n",
       "      <th>97</th>\n",
       "      <td>2025-06-25</td>\n",
       "      <td>1098</td>\n",
       "      <td>Tina Kim</td>\n",
       "      <td>Monitor</td>\n",
       "      <td>3</td>\n",
       "      <td>200</td>\n",
       "      <td>600</td>\n",
       "      <td>South Africa</td>\n",
       "    </tr>\n",
       "    <tr>\n",
       "      <th>98</th>\n",
       "      <td>2025-06-20</td>\n",
       "      <td>1099</td>\n",
       "      <td>Uma Cole</td>\n",
       "      <td>Keyboard</td>\n",
       "      <td>2</td>\n",
       "      <td>30</td>\n",
       "      <td>60</td>\n",
       "      <td>Japan</td>\n",
       "    </tr>\n",
       "    <tr>\n",
       "      <th>99</th>\n",
       "      <td>2025-06-20</td>\n",
       "      <td>1100</td>\n",
       "      <td>Vic Silva</td>\n",
       "      <td>Mouse</td>\n",
       "      <td>4</td>\n",
       "      <td>20</td>\n",
       "      <td>80</td>\n",
       "      <td>France</td>\n",
       "    </tr>\n",
       "  </tbody>\n",
       "</table>\n",
       "</div>"
      ],
      "text/plain": [
       "          Date  Order ID   Customer     Product  Quantity  Unit Price  \\\n",
       "95  2025-06-24      1096    Ria Liu  Smartphone         2         500   \n",
       "96  2025-06-24      1097   Sam Bell  Headphones         2          50   \n",
       "97  2025-06-25      1098   Tina Kim     Monitor         3         200   \n",
       "98  2025-06-20      1099   Uma Cole    Keyboard         2          30   \n",
       "99  2025-06-20      1100  Vic Silva       Mouse         4          20   \n",
       "\n",
       "    Total Sales       Country  \n",
       "95         1000        Canada  \n",
       "96          100        Brazil  \n",
       "97          600  South Africa  \n",
       "98           60         Japan  \n",
       "99           80        France  "
      ]
     },
     "execution_count": 17,
     "metadata": {},
     "output_type": "execute_result"
    }
   ],
   "source": [
    "df.tail()"
   ]
  },
  {
   "cell_type": "markdown",
   "id": "82001e5c-fb72-41f8-81d8-2d1b27cb69c8",
   "metadata": {},
   "source": [
    "Question - 5"
   ]
  },
  {
   "cell_type": "code",
   "execution_count": 18,
   "id": "5adfba97-bf3c-4d03-b370-18ec7f60d275",
   "metadata": {},
   "outputs": [
    {
     "data": {
      "text/plain": [
       "dtype('O')"
      ]
     },
     "execution_count": 18,
     "metadata": {},
     "output_type": "execute_result"
    }
   ],
   "source": [
    "df['Date'].dtype"
   ]
  },
  {
   "cell_type": "code",
   "execution_count": 19,
   "id": "a762c1b3-9a45-4f5f-af29-67e6cad7d132",
   "metadata": {},
   "outputs": [],
   "source": [
    "df['Date'] = pd.to_datetime(df['Date'], errors = 'coerce')"
   ]
  },
  {
   "cell_type": "code",
   "execution_count": 20,
   "id": "79d9bf6f-e8ff-479c-acb8-9bc636b195cf",
   "metadata": {},
   "outputs": [
    {
     "data": {
      "text/plain": [
       "dtype('<M8[ns]')"
      ]
     },
     "execution_count": 20,
     "metadata": {},
     "output_type": "execute_result"
    }
   ],
   "source": [
    "df['Date'].dtype"
   ]
  },
  {
   "cell_type": "markdown",
   "id": "cae797a0-73d3-47f0-a81a-40d4a3787c6b",
   "metadata": {},
   "source": [
    "Question - 6"
   ]
  },
  {
   "cell_type": "code",
   "execution_count": 22,
   "id": "238dd496-c8f4-4f7e-949a-665e908bc31a",
   "metadata": {},
   "outputs": [
    {
     "data": {
      "text/plain": [
       "array(['USA', 'UK', 'India', 'Deoutchland', 'Australia', 'Canada',\n",
       "       'Brazil', 'South Africa', 'Japan', 'France'], dtype=object)"
      ]
     },
     "execution_count": 22,
     "metadata": {},
     "output_type": "execute_result"
    }
   ],
   "source": [
    "df['Country'].unique()"
   ]
  },
  {
   "cell_type": "markdown",
   "id": "67e0f87b-02bc-4166-b900-978aa154ff62",
   "metadata": {},
   "source": [
    "Question - 7"
   ]
  },
  {
   "cell_type": "code",
   "execution_count": 24,
   "id": "c834cb70-a540-46b3-aa63-a6ad87865e05",
   "metadata": {},
   "outputs": [
    {
     "data": {
      "text/html": [
       "<div>\n",
       "<style scoped>\n",
       "    .dataframe tbody tr th:only-of-type {\n",
       "        vertical-align: middle;\n",
       "    }\n",
       "\n",
       "    .dataframe tbody tr th {\n",
       "        vertical-align: top;\n",
       "    }\n",
       "\n",
       "    .dataframe thead th {\n",
       "        text-align: right;\n",
       "    }\n",
       "</style>\n",
       "<table border=\"1\" class=\"dataframe\">\n",
       "  <thead>\n",
       "    <tr style=\"text-align: right;\">\n",
       "      <th></th>\n",
       "      <th>Date</th>\n",
       "      <th>Order ID</th>\n",
       "      <th>Customer</th>\n",
       "      <th>Product</th>\n",
       "      <th>Quantity</th>\n",
       "      <th>Unit Price</th>\n",
       "      <th>Total Sales</th>\n",
       "      <th>Country</th>\n",
       "    </tr>\n",
       "  </thead>\n",
       "  <tbody>\n",
       "    <tr>\n",
       "      <th>0</th>\n",
       "      <td>2025-06-01</td>\n",
       "      <td>1001</td>\n",
       "      <td>Alice Smith</td>\n",
       "      <td>Laptop</td>\n",
       "      <td>2</td>\n",
       "      <td>800</td>\n",
       "      <td>1600</td>\n",
       "      <td>USA</td>\n",
       "    </tr>\n",
       "    <tr>\n",
       "      <th>1</th>\n",
       "      <td>2025-06-01</td>\n",
       "      <td>1002</td>\n",
       "      <td>Bob Jones</td>\n",
       "      <td>Smartphone</td>\n",
       "      <td>3</td>\n",
       "      <td>500</td>\n",
       "      <td>1500</td>\n",
       "      <td>UK</td>\n",
       "    </tr>\n",
       "    <tr>\n",
       "      <th>2</th>\n",
       "      <td>2025-06-02</td>\n",
       "      <td>1003</td>\n",
       "      <td>Carol Lee</td>\n",
       "      <td>Headphones</td>\n",
       "      <td>5</td>\n",
       "      <td>50</td>\n",
       "      <td>250</td>\n",
       "      <td>India</td>\n",
       "    </tr>\n",
       "    <tr>\n",
       "      <th>3</th>\n",
       "      <td>2025-06-02</td>\n",
       "      <td>1004</td>\n",
       "      <td>David Kim</td>\n",
       "      <td>Monitor</td>\n",
       "      <td>1</td>\n",
       "      <td>200</td>\n",
       "      <td>200</td>\n",
       "      <td>Deutschland</td>\n",
       "    </tr>\n",
       "    <tr>\n",
       "      <th>4</th>\n",
       "      <td>2025-06-03</td>\n",
       "      <td>1005</td>\n",
       "      <td>Eva Brown</td>\n",
       "      <td>Keyboard</td>\n",
       "      <td>4</td>\n",
       "      <td>30</td>\n",
       "      <td>120</td>\n",
       "      <td>Australia</td>\n",
       "    </tr>\n",
       "    <tr>\n",
       "      <th>...</th>\n",
       "      <td>...</td>\n",
       "      <td>...</td>\n",
       "      <td>...</td>\n",
       "      <td>...</td>\n",
       "      <td>...</td>\n",
       "      <td>...</td>\n",
       "      <td>...</td>\n",
       "      <td>...</td>\n",
       "    </tr>\n",
       "    <tr>\n",
       "      <th>95</th>\n",
       "      <td>2025-06-24</td>\n",
       "      <td>1096</td>\n",
       "      <td>Ria Liu</td>\n",
       "      <td>Smartphone</td>\n",
       "      <td>2</td>\n",
       "      <td>500</td>\n",
       "      <td>1000</td>\n",
       "      <td>Canada</td>\n",
       "    </tr>\n",
       "    <tr>\n",
       "      <th>96</th>\n",
       "      <td>2025-06-24</td>\n",
       "      <td>1097</td>\n",
       "      <td>Sam Bell</td>\n",
       "      <td>Headphones</td>\n",
       "      <td>2</td>\n",
       "      <td>50</td>\n",
       "      <td>100</td>\n",
       "      <td>Brazil</td>\n",
       "    </tr>\n",
       "    <tr>\n",
       "      <th>97</th>\n",
       "      <td>2025-06-25</td>\n",
       "      <td>1098</td>\n",
       "      <td>Tina Kim</td>\n",
       "      <td>Monitor</td>\n",
       "      <td>3</td>\n",
       "      <td>200</td>\n",
       "      <td>600</td>\n",
       "      <td>South Africa</td>\n",
       "    </tr>\n",
       "    <tr>\n",
       "      <th>98</th>\n",
       "      <td>2025-06-20</td>\n",
       "      <td>1099</td>\n",
       "      <td>Uma Cole</td>\n",
       "      <td>Keyboard</td>\n",
       "      <td>2</td>\n",
       "      <td>30</td>\n",
       "      <td>60</td>\n",
       "      <td>Japan</td>\n",
       "    </tr>\n",
       "    <tr>\n",
       "      <th>99</th>\n",
       "      <td>2025-06-20</td>\n",
       "      <td>1100</td>\n",
       "      <td>Vic Silva</td>\n",
       "      <td>Mouse</td>\n",
       "      <td>4</td>\n",
       "      <td>20</td>\n",
       "      <td>80</td>\n",
       "      <td>France</td>\n",
       "    </tr>\n",
       "  </tbody>\n",
       "</table>\n",
       "<p>100 rows × 8 columns</p>\n",
       "</div>"
      ],
      "text/plain": [
       "         Date  Order ID     Customer     Product  Quantity  Unit Price  \\\n",
       "0  2025-06-01      1001  Alice Smith      Laptop         2         800   \n",
       "1  2025-06-01      1002    Bob Jones  Smartphone         3         500   \n",
       "2  2025-06-02      1003    Carol Lee  Headphones         5          50   \n",
       "3  2025-06-02      1004    David Kim     Monitor         1         200   \n",
       "4  2025-06-03      1005    Eva Brown    Keyboard         4          30   \n",
       "..        ...       ...          ...         ...       ...         ...   \n",
       "95 2025-06-24      1096      Ria Liu  Smartphone         2         500   \n",
       "96 2025-06-24      1097     Sam Bell  Headphones         2          50   \n",
       "97 2025-06-25      1098     Tina Kim     Monitor         3         200   \n",
       "98 2025-06-20      1099     Uma Cole    Keyboard         2          30   \n",
       "99 2025-06-20      1100    Vic Silva       Mouse         4          20   \n",
       "\n",
       "    Total Sales       Country  \n",
       "0          1600           USA  \n",
       "1          1500            UK  \n",
       "2           250         India  \n",
       "3           200   Deutschland  \n",
       "4           120     Australia  \n",
       "..          ...           ...  \n",
       "95         1000        Canada  \n",
       "96          100        Brazil  \n",
       "97          600  South Africa  \n",
       "98           60         Japan  \n",
       "99           80        France  \n",
       "\n",
       "[100 rows x 8 columns]"
      ]
     },
     "execution_count": 24,
     "metadata": {},
     "output_type": "execute_result"
    }
   ],
   "source": [
    "df['Country'] = df['Country'].replace(\"Deoutchland\",\"Deutschland\")\n",
    "df"
   ]
  },
  {
   "cell_type": "markdown",
   "id": "e6288746-083e-4687-a4c9-5c2dea716e07",
   "metadata": {},
   "source": [
    "Question - 8"
   ]
  },
  {
   "cell_type": "code",
   "execution_count": 25,
   "id": "1a8ca472-6787-4a5e-bfd8-8116b65742a3",
   "metadata": {},
   "outputs": [
    {
     "data": {
      "text/plain": [
       "Date           0\n",
       "Order ID       0\n",
       "Customer       0\n",
       "Product        0\n",
       "Quantity       0\n",
       "Unit Price     0\n",
       "Total Sales    0\n",
       "Country        0\n",
       "dtype: int64"
      ]
     },
     "execution_count": 25,
     "metadata": {},
     "output_type": "execute_result"
    }
   ],
   "source": [
    "df.isnull().sum()"
   ]
  },
  {
   "cell_type": "code",
   "execution_count": 28,
   "id": "50970478-9125-4493-b271-9d06ac7d2636",
   "metadata": {},
   "outputs": [
    {
     "name": "stdout",
     "output_type": "stream",
     "text": [
      "['Alice Smith' 'Bob Jones' 'Carol Lee' 'David Kim' 'Eva Brown'\n",
      " 'Frank Green' 'Grace Hall' 'Henry King' 'Irene Long' 'Jack Moon'\n",
      " 'Kim Patel' 'Liam Wong' 'Mia Chen' 'Noah Singh' 'Olivia Park' 'Paul Reed'\n",
      " 'Quinn Fox' 'Ruby Hart' 'Sara Wood' 'Tom Dale' 'Usha Roy' 'Vic Tran'\n",
      " 'Wade Liu' 'Xena Bell' 'Yara Kim' 'Zane Cole' 'Ana Silva' 'Ben Lee'\n",
      " 'Cara Patel' 'Dan Wu' 'Emma King' 'Finn Park' 'Gia Reed' 'Harsha'\n",
      " 'Ivy Hart' 'Jake Wood' 'Kate Dale' 'Luke Roy' 'Maya Tran' 'Ned Liu'\n",
      " 'Omar Bell' 'Pia Kim' 'Quinn Cole' 'Ria Silva' 'Sam Lee' 'Tina Wu'\n",
      " 'Uma King' 'Vic Park' 'Wade Reed' 'Xena Fox' 'Yara Hart' 'Zane Wood'\n",
      " 'Ana Dale' 'Ben Roy' 'Cara Tran' 'Dan Liu' 'Emma Bell' 'Finn Kim'\n",
      " 'Gia Cole' 'Hugo Silva' 'Ivy Lee' 'Jake Wu' 'Kate Hart' 'Luke Wood'\n",
      " 'Maya Dale' 'Ned Roy' 'Omar Tran' 'Pia Liu' 'Quinn Bell' 'Ria Kim'\n",
      " 'Sam Cole' 'Tina Wood' 'Uma Hart' 'Wade Tran' 'Xena Liu' 'Yara Bell'\n",
      " 'Zane Kim' 'Ana Cole' 'Ben Silva' 'Cara Lee' 'Emma Hart' 'Finn Wood'\n",
      " 'Gia Dale' 'Hugo Roy' 'Ivy Tran' 'Jake Liu' 'Kate Bell' 'Luke Kim'\n",
      " 'Maya Cole' 'Ned Wood' 'Omar Hart' 'Pia Dale' 'Quinn Tran' 'Ria Liu'\n",
      " 'Sam Bell' 'Tina Kim' 'Uma Cole' 'Vic Silva']\n"
     ]
    }
   ],
   "source": [
    "df['Customer'] = df['Customer'].replace(['???? ????','?????? ???? '],'Harsha')\n",
    "print(df['Customer'].unique())"
   ]
  },
  {
   "cell_type": "markdown",
   "id": "7d18b335-a6e1-45dd-8c77-f59cd5c9a79d",
   "metadata": {},
   "source": [
    "Question - 9"
   ]
  },
  {
   "cell_type": "code",
   "execution_count": 33,
   "id": "9ec77b3e-75ca-45a5-8192-37213e9741d8",
   "metadata": {},
   "outputs": [
    {
     "name": "stdout",
     "output_type": "stream",
     "text": [
      "India        INR\n",
      "USA          USD\n",
      "UK           GBP\n",
      "Germany      EUR\n",
      "Japan        JPY\n",
      "Canada       CAD\n",
      "Australia    AUD\n",
      "France       EUR\n",
      "China        CNY\n",
      "dtype: object\n"
     ]
    }
   ],
   "source": [
    "currencies = {\n",
    "    'India': 'INR',\n",
    "    'USA': 'USD',\n",
    "    'UK': 'GBP',\n",
    "    'Germany': 'EUR',\n",
    "    'Japan': 'JPY',\n",
    "    'Canada': 'CAD',\n",
    "    'Australia': 'AUD',\n",
    "    'France': 'EUR',\n",
    "    'China': 'CNY'\n",
    "}\n",
    "currency = pd.Series(currencies)\n",
    "print(currency)"
   ]
  },
  {
   "cell_type": "markdown",
   "id": "95d37df5-32ee-4b2b-9763-adcf5832799d",
   "metadata": {},
   "source": [
    "Question - 10"
   ]
  },
  {
   "cell_type": "code",
   "execution_count": 35,
   "id": "12f6c7ec-7bfd-47c2-95de-41dbaeeb9c20",
   "metadata": {},
   "outputs": [
    {
     "name": "stdout",
     "output_type": "stream",
     "text": [
      "INR    0.0120\n",
      "USD    1.0000\n",
      "GBP    1.2800\n",
      "EUR    1.0900\n",
      "JPY    0.0064\n",
      "CAD    0.7400\n",
      "AUD    0.6700\n",
      "CNY    0.1400\n",
      "dtype: float64\n"
     ]
    }
   ],
   "source": [
    "exchange_rates = {\n",
    "    'INR': 0.012,\n",
    "    'USD': 1.0,\n",
    "    'GBP': 1.28,\n",
    "    'EUR': 1.09,\n",
    "    'JPY': 0.0064,\n",
    "    'CAD': 0.74,\n",
    "    'AUD': 0.67,\n",
    "    'CNY': 0.14\n",
    "}\n",
    "exchange = pd.Series(exchange_rates)\n",
    "print(exchange)"
   ]
  },
  {
   "cell_type": "markdown",
   "id": "0455af60-647b-46f1-a0db-8004f0b9012e",
   "metadata": {},
   "source": [
    "Question - 11 and Question - 12"
   ]
  },
  {
   "cell_type": "code",
   "execution_count": 39,
   "id": "adf0d734-c3f0-4c1c-acd1-d6c03cec979e",
   "metadata": {},
   "outputs": [
    {
     "name": "stdout",
     "output_type": "stream",
     "text": [
      "     Country Currency  ExchangeRate\n",
      "0      India      INR        0.0120\n",
      "1        USA      USD        1.0000\n",
      "2         UK      GBP        1.2800\n",
      "3    Germany      EUR        1.0900\n",
      "4      Japan      JPY        0.0064\n",
      "5     Canada      CAD        0.7400\n",
      "6  Australia      AUD        0.6700\n",
      "7     France      EUR        1.0900\n",
      "8      China      CNY        0.1400\n"
     ]
    }
   ],
   "source": [
    "data = []\n",
    "for country, currency in currencies.items():\n",
    "    exchange_rate = exchange[currency]\n",
    "    data.append([country, currency, exchange_rate])\n",
    "currency_df = pd.DataFrame(data, columns=['Country', 'Currency', 'ExchangeRate'])\n",
    "print(currency_df)"
   ]
  },
  {
   "cell_type": "markdown",
   "id": "3169a879-1dc3-4dd3-8bd3-e473b165c610",
   "metadata": {},
   "source": [
    "Question - 13"
   ]
  },
  {
   "cell_type": "code",
   "execution_count": 41,
   "id": "d50598a4-4301-49d0-996a-091f003734d2",
   "metadata": {},
   "outputs": [
    {
     "name": "stdout",
     "output_type": "stream",
     "text": [
      "         Date  Order ID     Customer     Product  Quantity  Unit Price  \\\n",
      "0  2025-06-01      1001  Alice Smith      Laptop         2         800   \n",
      "1  2025-06-01      1002    Bob Jones  Smartphone         3         500   \n",
      "2  2025-06-02      1003    Carol Lee  Headphones         5          50   \n",
      "3  2025-06-02      1004    David Kim     Monitor         1         200   \n",
      "4  2025-06-03      1005    Eva Brown    Keyboard         4          30   \n",
      "..        ...       ...          ...         ...       ...         ...   \n",
      "95 2025-06-24      1096      Ria Liu  Smartphone         2         500   \n",
      "96 2025-06-24      1097     Sam Bell  Headphones         2          50   \n",
      "97 2025-06-25      1098     Tina Kim     Monitor         3         200   \n",
      "98 2025-06-20      1099     Uma Cole    Keyboard         2          30   \n",
      "99 2025-06-20      1100    Vic Silva       Mouse         4          20   \n",
      "\n",
      "    Total Sales       Country Currency  ExchangeRate  \n",
      "0          1600           USA      USD        1.0000  \n",
      "1          1500            UK      GBP        1.2800  \n",
      "2           250         India      INR        0.0120  \n",
      "3           200   Deutschland      NaN           NaN  \n",
      "4           120     Australia      AUD        0.6700  \n",
      "..          ...           ...      ...           ...  \n",
      "95         1000        Canada      CAD        0.7400  \n",
      "96          100        Brazil      NaN           NaN  \n",
      "97          600  South Africa      NaN           NaN  \n",
      "98           60         Japan      JPY        0.0064  \n",
      "99           80        France      EUR        1.0900  \n",
      "\n",
      "[100 rows x 10 columns]\n"
     ]
    }
   ],
   "source": [
    "merged_df = pd.merge(df, currency_df, on='Country', how='left')\n",
    "print(merged_df)"
   ]
  },
  {
   "cell_type": "markdown",
   "id": "4841b060-0418-4efc-87d4-1e52924dc9a5",
   "metadata": {},
   "source": [
    "Question - 14"
   ]
  },
  {
   "cell_type": "code",
   "execution_count": 43,
   "id": "1882d4e7-96b2-48c9-a895-b5c7060a21e4",
   "metadata": {},
   "outputs": [
    {
     "name": "stdout",
     "output_type": "stream",
     "text": [
      "         Date  Order ID     Customer     Product  Quantity  Unit Price  \\\n",
      "0  2025-06-01      1001  Alice Smith      Laptop         2         800   \n",
      "1  2025-06-01      1002    Bob Jones  Smartphone         3         500   \n",
      "2  2025-06-02      1003    Carol Lee  Headphones         5          50   \n",
      "3  2025-06-02      1004    David Kim     Monitor         1         200   \n",
      "4  2025-06-03      1005    Eva Brown    Keyboard         4          30   \n",
      "..        ...       ...          ...         ...       ...         ...   \n",
      "95 2025-06-24      1096      Ria Liu  Smartphone         2         500   \n",
      "96 2025-06-24      1097     Sam Bell  Headphones         2          50   \n",
      "97 2025-06-25      1098     Tina Kim     Monitor         3         200   \n",
      "98 2025-06-20      1099     Uma Cole    Keyboard         2          30   \n",
      "99 2025-06-20      1100    Vic Silva       Mouse         4          20   \n",
      "\n",
      "    Total Sales       Country Currency  ExchangeRate  USDValue  \n",
      "0          1600           USA      USD        1.0000  1600.000  \n",
      "1          1500            UK      GBP        1.2800  1920.000  \n",
      "2           250         India      INR        0.0120     3.000  \n",
      "3           200   Deutschland      NaN           NaN       NaN  \n",
      "4           120     Australia      AUD        0.6700    80.400  \n",
      "..          ...           ...      ...           ...       ...  \n",
      "95         1000        Canada      CAD        0.7400   740.000  \n",
      "96          100        Brazil      NaN           NaN       NaN  \n",
      "97          600  South Africa      NaN           NaN       NaN  \n",
      "98           60         Japan      JPY        0.0064     0.384  \n",
      "99           80        France      EUR        1.0900    87.200  \n",
      "\n",
      "[100 rows x 11 columns]\n"
     ]
    }
   ],
   "source": [
    "merged_df['USDValue'] = merged_df['Total Sales']*merged_df['ExchangeRate']\n",
    "print(merged_df)"
   ]
  },
  {
   "cell_type": "markdown",
   "id": "f0304bae-4c68-404d-a45f-60eb6bd628dd",
   "metadata": {},
   "source": [
    "Question - 15"
   ]
  },
  {
   "cell_type": "code",
   "execution_count": 44,
   "id": "0516c727-bb15-4fab-b7fd-12da2b5d4df6",
   "metadata": {},
   "outputs": [
    {
     "data": {
      "text/plain": [
       "np.float64(25313.984)"
      ]
     },
     "execution_count": 44,
     "metadata": {},
     "output_type": "execute_result"
    }
   ],
   "source": [
    "total_sales = merged_df['USDValue'].sum()\n",
    "total_sales"
   ]
  },
  {
   "cell_type": "markdown",
   "id": "b45c48d1-a563-41b6-b352-342f0df0d8d7",
   "metadata": {},
   "source": [
    "Question - 16"
   ]
  },
  {
   "cell_type": "code",
   "execution_count": 45,
   "id": "76cd5458-0815-4042-ba9d-0240407956e6",
   "metadata": {},
   "outputs": [
    {
     "name": "stdout",
     "output_type": "stream",
     "text": [
      "Country\n",
      "Australia       7048.400\n",
      "Brazil             0.000\n",
      "Canada          6378.800\n",
      "Deutschland        0.000\n",
      "France           981.000\n",
      "India             21.720\n",
      "Japan              8.064\n",
      "South Africa       0.000\n",
      "UK              5376.000\n",
      "USA             5500.000\n",
      "Name: USDValue, dtype: float64\n"
     ]
    }
   ],
   "source": [
    "sales_by_value = merged_df.groupby('Country')['USDValue'].sum()\n",
    "print(sales_by_value)"
   ]
  },
  {
   "cell_type": "markdown",
   "id": "e5e91819-a79d-4058-b37c-4222421e29e8",
   "metadata": {},
   "source": [
    "Question - 17"
   ]
  },
  {
   "cell_type": "code",
   "execution_count": 47,
   "id": "0ca4fc9e-c85c-44db-b574-887749f9767b",
   "metadata": {},
   "outputs": [
    {
     "name": "stdout",
     "output_type": "stream",
     "text": [
      "Country       Product   \n",
      "Australia     Keyboard        80.400\n",
      "              Laptop        6968.000\n",
      "Brazil        Headphones       0.000\n",
      "              Laptop           0.000\n",
      "Canada        Mouse           88.800\n",
      "              Smartphone    6290.000\n",
      "Deutschland   Camera           0.000\n",
      "              Monitor          0.000\n",
      "France        Headphones     109.000\n",
      "              Mouse          872.000\n",
      "India         Headphones       3.000\n",
      "              Printer         18.720\n",
      "Japan         Keyboard         4.224\n",
      "              Monitor          3.840\n",
      "South Africa  Monitor          0.000\n",
      "              Smartphone       0.000\n",
      "UK            Smartphone    1920.000\n",
      "              Smartwatch    3456.000\n",
      "USA           Laptop        1600.000\n",
      "              Tablet        3900.000\n",
      "Name: USDValue, dtype: float64\n"
     ]
    }
   ],
   "source": [
    "sales_by_product_country = merged_df.groupby(['Country','Product'])['USDValue'].sum()\n",
    "print(sales_by_product_country)"
   ]
  },
  {
   "cell_type": "markdown",
   "id": "9d72af52-df51-4488-b983-d12b91d9f501",
   "metadata": {},
   "source": [
    "Question - 18"
   ]
  },
  {
   "cell_type": "code",
   "execution_count": 52,
   "id": "93597eaa-96de-4fbc-ad94-f71d0e394487",
   "metadata": {},
   "outputs": [
    {
     "name": "stdout",
     "output_type": "stream",
     "text": [
      "         Date  Order ID     Customer     Product  Quantity  Unit Price  \\\n",
      "0  2025-06-01      1001  Alice Smith      Laptop         2         800   \n",
      "1  2025-06-01      1002    Bob Jones  Smartphone         3         500   \n",
      "2  2025-06-02      1003    Carol Lee  Headphones         5          50   \n",
      "3  2025-06-02      1004    David Kim     Monitor         1         200   \n",
      "4  2025-06-03      1005    Eva Brown    Keyboard         4          30   \n",
      "..        ...       ...          ...         ...       ...         ...   \n",
      "95 2025-06-24      1096      Ria Liu  Smartphone         2         500   \n",
      "96 2025-06-24      1097     Sam Bell  Headphones         2          50   \n",
      "97 2025-06-25      1098     Tina Kim     Monitor         3         200   \n",
      "98 2025-06-20      1099     Uma Cole    Keyboard         2          30   \n",
      "99 2025-06-20      1100    Vic Silva       Mouse         4          20   \n",
      "\n",
      "    Total Sales       Country Currency  ExchangeRate  USDValue  WeekNum  \n",
      "0          1600           USA      USD        1.0000  1600.000       22  \n",
      "1          1500            UK      GBP        1.2800  1920.000       22  \n",
      "2           250         India      INR        0.0120     3.000       23  \n",
      "3           200   Deutschland      NaN           NaN       NaN       23  \n",
      "4           120     Australia      AUD        0.6700    80.400       23  \n",
      "..          ...           ...      ...           ...       ...      ...  \n",
      "95         1000        Canada      CAD        0.7400   740.000       26  \n",
      "96          100        Brazil      NaN           NaN       NaN       26  \n",
      "97          600  South Africa      NaN           NaN       NaN       26  \n",
      "98           60         Japan      JPY        0.0064     0.384       25  \n",
      "99           80        France      EUR        1.0900    87.200       25  \n",
      "\n",
      "[100 rows x 12 columns]\n"
     ]
    }
   ],
   "source": [
    "merged_df['WeekNum'] = merged_df['Date'].dt.isocalendar().week\n",
    "print(merged_df)"
   ]
  },
  {
   "cell_type": "markdown",
   "id": "cda11fab-cb87-4bc3-a91a-22686d55cac4",
   "metadata": {},
   "source": [
    "Question - 19"
   ]
  },
  {
   "cell_type": "code",
   "execution_count": 54,
   "id": "c33897a6-6e18-41d7-bd27-d4148e550484",
   "metadata": {},
   "outputs": [
    {
     "name": "stdout",
     "output_type": "stream",
     "text": [
      "WeekNum         22        23       24        25        26      27\n",
      "Product                                                          \n",
      "Camera         0.0     0.000     0.00     0.000     0.000   0.000\n",
      "Headphones     0.0   112.000     0.00     0.000     0.000   0.000\n",
      "Keyboard       0.0    80.976     1.92     0.768     0.576   0.384\n",
      "Laptop      1600.0  2144.000  2144.00   536.000  2144.000   0.000\n",
      "Monitor        0.0     3.840     0.00     0.000     0.000   0.000\n",
      "Mouse          0.0   197.800   283.40   283.400   109.000  87.200\n",
      "Printer        0.0     5.760     5.76     5.760     1.440   0.000\n",
      "Smartphone  1920.0  1850.000  1480.00   740.000  2220.000   0.000\n",
      "Smartwatch   192.0   960.000   384.00  1344.000   576.000   0.000\n",
      "Tablet       600.0   600.000  1200.00  1200.000   300.000   0.000\n"
     ]
    }
   ],
   "source": [
    "pivot = pd.pivot_table(merged_df, index = 'Product',columns = 'WeekNum', values = 'USDValue', aggfunc = 'sum', fill_value = 0)\n",
    "print(pivot)"
   ]
  },
  {
   "cell_type": "markdown",
   "id": "31568c60-570d-41a2-801d-763487e40b86",
   "metadata": {},
   "source": [
    "Question - 20"
   ]
  },
  {
   "cell_type": "code",
   "execution_count": 57,
   "id": "ca0f6656-bde7-4201-b5f5-5c3c9c066f4d",
   "metadata": {},
   "outputs": [
    {
     "data": {
      "image/png": "[encoded data removed]",
      "text/plain": [
       "<Figure size 1000x600 with 1 Axes>"
      ]
     },
     "metadata": {},
     "output_type": "display_data"
    }
   ],
   "source": [
    "import matplotlib.pyplot as plt\n",
    "pivot.T.plot(figsize=(10,6), marker='o')\n",
    "plt.title('Weekly Sales Trend by Product')\n",
    "plt.xlabel('Week Number')\n",
    "plt.ylabel('USD Sales')\n",
    "plt.grid(True)\n",
    "plt.legend(title='Product')\n",
    "plt.tight_layout()\n",
    "plt.show()"
   ]
  },
  {
   "cell_type": "markdown",
   "id": "15fa8e83-374e-41bf-a217-3506361640e2",
   "metadata": {},
   "source": [
    "Question - 21"
   ]
  },
  {
   "cell_type": "code",
   "execution_count": 58,
   "id": "9096ebd3-2861-443e-bdf6-196adf75321f",
   "metadata": {},
   "outputs": [
    {
     "data": {
      "image/png": "[encoded data removed]",
      "text/plain": [
       "<Figure size 640x480 with 1 Axes>"
      ]
     },
     "metadata": {},
     "output_type": "display_data"
    }
   ],
   "source": [
    "plt.scatter(merged_df['Unit Price'], merged_df['Quantity'], alpha=0.7)\n",
    "plt.title('Unit Price vs Quantity')\n",
    "plt.xlabel('Unit Price')\n",
    "plt.ylabel('Quantity')\n",
    "plt.grid(True)\n",
    "plt.tight_layout()\n",
    "plt.show()"
   ]
  },
  {
   "cell_type": "markdown",
   "id": "14cf5cfc-f4ff-47b1-9f7e-96627d634775",
   "metadata": {},
   "source": [
    "Question - 22"
   ]
  },
  {
   "cell_type": "code",
   "execution_count": 59,
   "id": "3b35b160-b9f8-4022-98ba-59894415093e",
   "metadata": {},
   "outputs": [
    {
     "data": {
      "image/png": "[encoded data removed]",
      "text/plain": [
       "<Figure size 1200x600 with 1 Axes>"
      ]
     },
     "metadata": {},
     "output_type": "display_data"
    }
   ],
   "source": [
    "stacked = merged_df.groupby(['Country', 'Product'])['USDValue'].sum().unstack().fillna(0)\n",
    "stacked.plot(kind='bar', stacked=True, figsize=(12, 6))\n",
    "plt.title('Total Sales by Country and Product')\n",
    "plt.xlabel('Country')\n",
    "plt.ylabel('USD Sales')\n",
    "plt.legend(title='Product')\n",
    "plt.tight_layout()\n",
    "plt.show()"
   ]
  }
 ],
 "metadata": {
  "kernelspec": {
   "display_name": "Python [conda env:base] *",
   "language": "python",
   "name": "conda-base-py"
  },
  "language_info": {
   "codemirror_mode": {
    "name": "ipython",
    "version": 3
   },
   "file_extension": ".py",
   "mimetype": "text/x-python",
   "name": "python",
   "nbconvert_exporter": "python",
   "pygments_lexer": "ipython3",
   "version": "3.13.5"
  }
 },
 "nbformat": 4,
 "nbformat_minor": 5
}
